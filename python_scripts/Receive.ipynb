{
 "cells": [
  {
   "cell_type": "markdown",
   "metadata": {},
   "source": [
    "## Rendering Beifong"
   ]
  },
  {
   "cell_type": "code",
   "execution_count": 1,
   "metadata": {},
   "outputs": [],
   "source": [
    "import os\n",
    "import numpy as np\n",
    "import mitsuba\n",
    "import enoki as ek\n",
    "\n",
    "# Set the desired mitsuba variant\n",
    "# mitsuba.set_variant('scalar_rgb')\n",
    "# mitsuba.set_variant('scalar_mono')\n",
    "mitsuba.set_variant('scalar_spectral')\n",
    "# mitsuba.set_variant('gpu_spectral')\n",
    "# mitsuba.set_variant('gpu_rgb')\n",
    "# mitsuba.set_variant('packet_spectral')\n",
    "\n",
    "from mitsuba.core import Bitmap, Struct, Thread\n",
    "from mitsuba.core.xml import load_file\n",
    "\n",
    "from matplotlib import pyplot as plt\n",
    "\n",
    "# Animation bits\n",
    "from mitsuba.core.xml import load_dict\n",
    "from mitsuba.core import Vector3f, Transform4f\n",
    "from mitsuba.core import ScalarTransform4f\n",
    "import matplotlib.animation as animation\n",
    "from matplotlib import cm"
   ]
  },
  {
   "cell_type": "markdown",
   "metadata": {},
   "source": [
    "### Simulation Setup"
   ]
  },
  {
   "cell_type": "code",
   "execution_count": 2,
   "metadata": {},
   "outputs": [],
   "source": [
    "SAM = dict({\n",
    "    'type': 'independent',\n",
    "    'sample_count': int(2**16),\n",
    "})\n",
    "\n",
    "INTEGRATOR = dict({\n",
    "    'type': 'pathlength',\n",
    "})"
   ]
  },
  {
   "cell_type": "markdown",
   "metadata": {},
   "source": [
    "### Transmitter Setup\n",
    "Ensure mitsuba/beifong is compiled with the correct wavelength min and max in /include/core.spectrum.h"
   ]
  },
  {
   "cell_type": "code",
   "execution_count": 3,
   "metadata": {},
   "outputs": [],
   "source": [
    "# Standard MMW Radar\n",
    "TX = dict({\n",
    "    'type': 'fmcw',\n",
    "    'fc': 94e9,\n",
    "    'bandwidth': 6e9,\n",
    "    'tx_power': 10e-3,\n",
    "    'wrf': 2000,\n",
    "    'rise_time': 200e-6,\n",
    "    'hold_time': 50e-6,\n",
    "    'fall_time': 200e-6,\n",
    "    'wait_time': 50e-6,\n",
    "})\n",
    "\n",
    "# Grahams Ultrasound Radar\n",
    "# TX = dict({\n",
    "#     'type': 'fmcw',\n",
    "#     'fc': 40e3,\n",
    "#     'bandwidth': 2e3,\n",
    "#     'tx_power': 10e-3,\n",
    "#     'wrf': 10,\n",
    "#     'rise_time': 90e-3,\n",
    "#     'hold_time': 1e-6,\n",
    "#     'fall_time': 1e-6,\n",
    "#     'wait_time': 9.998e-3,\n",
    "# })"
   ]
  },
  {
   "cell_type": "markdown",
   "metadata": {},
   "source": [
    "### Receiver Setup"
   ]
  },
  {
   "cell_type": "code",
   "execution_count": 161,
   "metadata": {},
   "outputs": [],
   "source": [
    "# rbins = 2**8\n",
    "rbins = 2**10\n",
    "dr = 0.03\n",
    "dbins = 2**10\n",
    "\n",
    "RX = dict({\n",
    "    'type': 'hdradc',\n",
    "    'pixel_format': 'luminance',\n",
    "    'tr_bins': rbins,\n",
    "    'fd_bins': dbins,\n",
    "    'tr_min': dr,\n",
    "    'tr_max': rbins*dr,\n",
    "    'fd_bandwidth': 1,\n",
    "    'fd_centre': 0.5,\n",
    "    'rfilter': {\n",
    "        'type': 'box'\n",
    "    },\n",
    "})\n",
    "\n",
    "# Maybe it shouldn't ba an adc. maybe it should.\n",
    "# The 'fpga' or other data processing should be seperate.\n",
    "# To get a proper tf, we can imagine a filter bank. \n",
    "\n",
    "# Diferent kinds of signal processing approaches.\n",
    "# mixed+filtered vs non.\n",
    "\n",
    "# "
   ]
  },
  {
   "cell_type": "code",
   "execution_count": 162,
   "metadata": {},
   "outputs": [
    {
     "data": {
      "text/plain": [
       "16000.0"
      ]
     },
     "execution_count": 162,
     "metadata": {},
     "output_type": "execute_result"
    }
   ],
   "source": [
    "80e6*200e-6"
   ]
  },
  {
   "cell_type": "code",
   "execution_count": 163,
   "metadata": {},
   "outputs": [
    {
     "data": {
      "text/plain": [
       "1350.0"
      ]
     },
     "execution_count": 163,
     "metadata": {},
     "output_type": "execute_result"
    }
   ],
   "source": [
    "(150-15)/0.1"
   ]
  },
  {
   "cell_type": "markdown",
   "metadata": {},
   "source": [
    "#### Wavelength"
   ]
  },
  {
   "cell_type": "code",
   "execution_count": 164,
   "metadata": {},
   "outputs": [],
   "source": [
    "C_VAC = 3e8\n",
    "C_AIR = 340\n",
    "# C_MED = C_AIR\n",
    "C_MED = C_VAC\n",
    "wlen_max = int(np.ceil(C_MED/(TX['fc'] - TX['bandwidth']/2) * 1e9))\n",
    "wlen_min = int(np.ceil(C_MED/(TX['fc'] + TX['bandwidth']/2) * 1e9))"
   ]
  },
  {
   "cell_type": "markdown",
   "metadata": {},
   "source": [
    "### Transmit Antenna Setup\n",
    "We should also extend this and attach a signal, similar to how emitter has a film\n",
    "<br> <br>\n",
    "Another thought, if we were doing a phasor representation, we would still need the rms power to give to the rays. We are smarter and use wigner because it has power, time and frequency.\n",
    "<br> <br>\n",
    "We could extend the radiance power to include transmit antenna bandwidth considerations."
   ]
  },
  {
   "cell_type": "code",
   "execution_count": 165,
   "metadata": {},
   "outputs": [],
   "source": [
    "# Transmit Antenna/Aperture/Array\n",
    "txa_size = np.array([5e-3, 5e-3, 1]) # 10mm x 10mm patch\n",
    "txa_r0 = np.array([0, 0, 0.3])\n",
    "\n",
    "# Starting orientation: z, thumb down; y, index right; x middle back\n",
    "# z, boresight/up, y, right, x, forward\n",
    "txa_d0_align_z = Transform4f.rotate([0,1,0], 90)\n",
    "txa_d0_align_x = Transform4f.rotate([1,0,0], 90)\n",
    "txa_d0 = txa_d0_align_x*txa_d0_align_z\n",
    "\n",
    "txa_z = txa_d0.transform_vector([0,0,1])\n",
    "txa_y = txa_d0.transform_vector([0,1,0])\n",
    "txa_x = txa_d0.transform_vector([1,0,0])\n",
    "\n",
    "txa_trafo = Transform4f.translate(txa_r0)*txa_d0*Transform4f.scale(txa_size)\n",
    "TXA = dict({\n",
    "    'type': 'rectangle',\n",
    "    'to_world': txa_trafo,\n",
    "    'emitter': {\n",
    "        'type': 'wignertransmitter',\n",
    "        'radiance': {\n",
    "            'type': 'spectrum',\n",
    "            'value': [(wlen_min, TX['tx_power']), (wlen_max, TX['tx_power'])],\n",
    "        },\n",
    "    },\n",
    "})"
   ]
  },
  {
   "cell_type": "markdown",
   "metadata": {},
   "source": [
    "### Receive Antenna Setup\n",
    "\n",
    "Getting this working needs to be the next priority so that I can dump the camera centric parameters from receiver/sensor"
   ]
  },
  {
   "cell_type": "code",
   "execution_count": 166,
   "metadata": {},
   "outputs": [],
   "source": [
    "# Receive Antenna/Aperture/Array\n",
    "rxa_size = np.array([5e-3, 5e-3, 1]) # 10mm x 10mm patch\n",
    "rxa_r0 = np.array([0, 0, 0.3])\n",
    "\n",
    "# Starting orientation: z, thumb down; y, index right; x middle back\n",
    "# z, boresight/up, y, right, x, forward\n",
    "rxa_d0_align_z = Transform4f.rotate([0,1,0], 90)\n",
    "rxa_d0_align_x = Transform4f.rotate([1,0,0], 90)\n",
    "rxa_d0 = rxa_d0_align_x*rxa_d0_align_z\n",
    "\n",
    "rxa_z = rxa_d0.transform_vector([0,0,1])\n",
    "rxa_y = rxa_d0.transform_vector([0,1,0])\n",
    "rxa_x = rxa_d0.transform_vector([1,0,0])\n",
    "\n",
    "rxa_trafo = rxa_d0*Transform4f.translate(rxa_r0)*Transform4f.scale(rxa_size)\n",
    "\n",
    "RXA = dict({\n",
    "    'type': 'rectangle',\n",
    "    'to_world': rxa_trafo,\n",
    "    'receiver' : {\n",
    "        'type': 'omnidirectional',\n",
    "        'sampler': SAM,\n",
    "        'adc': RX,\n",
    "    }\n",
    "})"
   ]
  },
  {
   "cell_type": "markdown",
   "metadata": {},
   "source": [
    "### Scene Geometry Setup\n",
    "\n",
    "Note: World Origin [0, 0, 0]; Object Direction [0, 0, 1], no rotation"
   ]
  },
  {
   "cell_type": "code",
   "execution_count": 167,
   "metadata": {},
   "outputs": [],
   "source": [
    "# Reflector\n",
    "refl_size = np.array([100e-3, 50e-3, 1])\n",
    "# refl_r0 = np.array([1, 0.5, 0.3])\n",
    "# refl_r0 = np.array([1, 0, 0.3])\n",
    "refl_r0 = np.array([0, -2, 0.3])\n",
    "\n",
    "# Starting orientation: z, thumb down; y, index right; x middle back\n",
    "# z, boresight/up, y, right, x, forward\n",
    "refl_d0_align_z = Transform4f.rotate([0,1,0], 90)\n",
    "refl_d0_align_x = Transform4f.rotate([1,0,0], 90)\n",
    "refl_d0 = refl_d0_align_x*refl_d0_align_z\n",
    "\n",
    "# When the target is aligned with y axis, rotate it so that it's perpendicular to radar.\n",
    "refl_d0 = Transform4f.rotate([0,0,1], 90) * refl_d0\n",
    "\n",
    "refl_z = refl_d0.transform_vector([0,0,1])\n",
    "refl_y = refl_d0.transform_vector([0,1,0])\n",
    "refl_x = refl_d0.transform_vector([1,0,0])\n",
    "\n",
    "refl_trafo = Transform4f.translate(refl_r0)*refl_d0*Transform4f.scale(refl_size)\n",
    "\n",
    "\n",
    "# Ground\n",
    "gnd_size = np.array([20, 20, 1])\n",
    "gnd_r0 = np.array([0, 0, 0])\n",
    "gnd_d0 = Transform4f.rotate([0,0,1], 0)\n",
    "\n",
    "gnd_trafo = Transform4f.translate(gnd_r0)*gnd_d0*Transform4f.scale(gnd_size)\n",
    "\n",
    "\n",
    "# Car\n",
    "car_size = np.array([1e-3, 1e-3, 1e-3])\n",
    "car_r0 = np.array([10, 3, 1])\n",
    "\n",
    "car_d0_align_z = Transform4f.rotate([1,0,0], 90)\n",
    "car_d0_align_x = Transform4f.rotate([0,0,1], -20)\n",
    "car_d0 = car_d0_align_x*car_d0_align_z\n",
    "\n",
    "car_z = car_d0.transform_vector([0,0,1])\n",
    "car_y = car_d0.transform_vector([0,1,0])\n",
    "car_x = car_d0.transform_vector([1,0,0])\n",
    "\n",
    "car_trafo = Transform4f.translate(car_r0)*car_d0*Transform4f.scale(car_size)"
   ]
  },
  {
   "cell_type": "markdown",
   "metadata": {},
   "source": [
    "### Object BSDFs"
   ]
  },
  {
   "cell_type": "code",
   "execution_count": 168,
   "metadata": {},
   "outputs": [],
   "source": [
    "B_GND = dict({\n",
    "    'type': 'twosided',\n",
    "    'id': 'material',\n",
    "    'bsdf': {\n",
    "        'type': 'diffuse',\n",
    "#         'type': 'plastic',\n",
    "#         'specular_reflectance': {\n",
    "        'reflectance': {\n",
    "            'type': 'spectrum',\n",
    "            'value': [(wlen_min, 0.5), (wlen_max, 0.5)],\n",
    "        },\n",
    "    },\n",
    "})\n",
    "\n",
    "B_REFL = dict({\n",
    "    'type': 'twosided',\n",
    "    'id': 'material',\n",
    "    'bsdf': {\n",
    "        'type': 'diffuse',\n",
    "#         'type': 'conductor',\n",
    "#         'type': 'roughconductor',\n",
    "        'reflectance': {\n",
    "#         'specular_reflectance': {\n",
    "            'type': 'spectrum',\n",
    "            'value': [(wlen_min, 1), (wlen_max, 1)],\n",
    "        },\n",
    "    },\n",
    "})\n",
    "\n",
    "B_CAR = dict({\n",
    "    'type': 'twosided',\n",
    "    'id': 'material',\n",
    "    'bsdf': {\n",
    "        # 'type': 'diffuse',\n",
    "        # 'reflectance': {\n",
    "        'type': 'roughconductor',\n",
    "        # 'type': 'plastic',\n",
    "        'specular_reflectance': {\n",
    "            'type': 'spectrum',\n",
    "            'value': [(wlen_min, 1), (wlen_max, 1)],\n",
    "        },\n",
    "    },\n",
    "})"
   ]
  },
  {
   "cell_type": "markdown",
   "metadata": {},
   "source": [
    "### Objects"
   ]
  },
  {
   "cell_type": "code",
   "execution_count": 169,
   "metadata": {},
   "outputs": [],
   "source": [
    "REFL = dict({\n",
    "    'type': 'rectangle',\n",
    "    'to_world': refl_trafo,\n",
    "    'bsdf': B_REFL,\n",
    "})\n",
    "\n",
    "GND = dict({\n",
    "    'type': 'rectangle',\n",
    "    'to_world': gnd_trafo,\n",
    "    'bsdf': B_GND,\n",
    "})\n",
    "\n",
    "CAR = dict({\n",
    "    'type': 'obj',\n",
    "    'filename': './Bus.obj',\n",
    "    # 'filename': './Car-body.ply',\n",
    "    # 'filename': './Motorbike_ply.ply',\n",
    "    'to_world': car_trafo,\n",
    "    'bsdf': B_CAR,\n",
    "})"
   ]
  },
  {
   "cell_type": "markdown",
   "metadata": {},
   "source": [
    "### Load All Parameters into Scene"
   ]
  },
  {
   "cell_type": "code",
   "execution_count": 170,
   "metadata": {},
   "outputs": [],
   "source": [
    "scene = load_dict({\n",
    "    'type': 'scene',\n",
    "    'integrator': INTEGRATOR,\n",
    "    'receiver': RXA,\n",
    "    'emitter': TXA,\n",
    "    's0': REFL,\n",
    "    's1': GND,\n",
    "#     's2': CAR,\n",
    "})"
   ]
  },
  {
   "cell_type": "markdown",
   "metadata": {},
   "source": [
    "## Render the Scene\n",
    "After rendering, the rendered data is stored in the film"
   ]
  },
  {
   "cell_type": "code",
   "execution_count": 171,
   "metadata": {},
   "outputs": [],
   "source": [
    "scene.integrator().receive(scene, scene.receivers()[0])\n",
    "adc = scene.receivers()[0].adc()\n",
    "bmp = adc.bitmap(raw=True)\n",
    "bmp_np = np.array(bmp)"
   ]
  },
  {
   "cell_type": "code",
   "execution_count": 177,
   "metadata": {},
   "outputs": [
    {
     "data": {
      "image/png": "[encoded data removed]",
      "text/plain": [
       "<Figure size 1008x504 with 1 Axes>"
      ]
     },
     "metadata": {
      "needs_background": "light"
     },
     "output_type": "display_data"
    }
   ],
   "source": [
    "mask = bmp_np[:,:,0]>0\n",
    "vals = (bmp_np[:,:,0]*mask/SAM[\"sample_count\"])[0] + np.finfo(float).eps\n",
    "xvals = (np.linspace(RX['tr_min'], RX['tr_max'], RX['tr_bins']))/2\n",
    "\n",
    "fig1 = plt.figure(figsize=(14, 7))\n",
    "axes1 = fig1.add_subplot()\n",
    "# axes1.imshow(bmp_np[:,:,0]*mask, interpolation='nearest')\n",
    "axes1.plot(xvals, 10*np.log10(vals))\n",
    "axes1.set_xlabel(\"Range [m]\")\n",
    "axes1.set_ylabel(\"Power [dBW]\")\n",
    "axes1.grid()"
   ]
  },
  {
   "cell_type": "code",
   "execution_count": 182,
   "metadata": {},
   "outputs": [
    {
     "data": {
      "text/plain": [
       "Text(0, 0.5, 'Power [dBW]')"
      ]
     },
     "execution_count": 182,
     "metadata": {},
     "output_type": "execute_result"
    },
    {
     "data": {
      "image/png": "[encoded data removed]",
      "text/plain": [
       "<Figure size 1008x504 with 1 Axes>"
      ]
     },
     "metadata": {
      "needs_background": "light"
     },
     "output_type": "display_data"
    }
   ],
   "source": [
    "mask = bmp_np[:,:,0]>0\n",
    "vals = (bmp_np[:,:,0]*mask/SAM[\"sample_count\"]) + np.finfo(float).eps\n",
    "xvals = (np.linspace(RX['tr_min'], RX['tr_max'], RX['tr_bins']))/2\n",
    "\n",
    "fig1 = plt.figure(figsize=(14, 7))\n",
    "axes1 = fig1.add_subplot()\n",
    "axes1.imshow(10*np.log10(vals), interpolation='nearest')\n",
    "# axes1.plot(xvals, 10*np.log10(vals))\n",
    "axes1.set_xlabel(\"Range [m]\")\n",
    "axes1.set_ylabel(\"Power [dBW]\")\n",
    "# axes1.grid()"
   ]
  },
  {
   "cell_type": "markdown",
   "metadata": {},
   "source": [
    "#### Idea\n",
    "As part of a pipeline, perhaps we could set the rendering destination file to be a fifo pipe which can then be streamed."
   ]
  },
  {
   "cell_type": "markdown",
   "metadata": {},
   "source": [
    "## Rotate about the origin and render the signal"
   ]
  },
  {
   "cell_type": "code",
   "execution_count": 150,
   "metadata": {},
   "outputs": [],
   "source": [
    "# Initial Angle\n",
    "theta_0 = np.deg2rad(0)\n",
    "# Initial Time\n",
    "t_0 = 0\n",
    "# Angular velocity rad/s\n",
    "omega = 3*2*np.pi\n",
    "\n",
    "# Time-based waveforms or angular position-based waveforms?\n",
    "mode = \"position\"\n",
    "\n",
    "if mode==\"position\":\n",
    "    n_revs = 1\n",
    "    da = 1/2**8\n",
    "    dt = n_revs*da/(omega/(2*np.pi))\n",
    "    n_bins_slow = int(np.ceil(n_revs/da))\n",
    "\n",
    "elif mode==\"time\":\n",
    "    n_secs = 1\n",
    "    dt = 0.01\n",
    "    n_bins_slow = int(np.ceil(n_secs/dt))\n",
    "\n",
    "# Storage\n",
    "record = np.zeros([n_bins_slow, 2+RX['tr_bins']])\n",
    "\n",
    "txa_new = txa_trafo\n",
    "rxa_new = rxa_trafo\n",
    "\n",
    "t = t_0\n",
    "theta = theta_0\n",
    "\n",
    "for i in range(n_bins_slow):\n",
    "    \n",
    "    # Gotta find smarter way to update scene\n",
    "    TXA = dict({\n",
    "        'type': 'rectangle',\n",
    "        'to_world': txa_new,\n",
    "        'emitter': {\n",
    "            'type': 'wignertransmitter',\n",
    "            'radiance': {\n",
    "                'type': 'spectrum',\n",
    "                'value': [(wlen_min, TX['tx_power']), (wlen_max, TX['tx_power'])],\n",
    "            },\n",
    "        },\n",
    "    })\n",
    "\n",
    "    RXA = dict({\n",
    "        'type': 'rectangle',\n",
    "        'to_world': rxa_new,\n",
    "        'receiver' : {\n",
    "            'type': 'omnidirectional',\n",
    "            'sampler': SAM,\n",
    "            'adc': RX,\n",
    "        }\n",
    "    })\n",
    "    \n",
    "    scene = load_dict({\n",
    "        'type': 'scene',\n",
    "        'integrator': INTEGRATOR,\n",
    "        'sensor': RXA,\n",
    "        'emitter': TXA,\n",
    "        's0': REFL,\n",
    "        's1': GND,\n",
    "    #     's2': CAR,\n",
    "    })\n",
    "    \n",
    "    # Render the scene\n",
    "    scene.integrator().receive(scene, scene.receivers()[0])\n",
    "    adc = scene.receivers()[0].adc()\n",
    "    # Extract the values from the adc and store them on disk\n",
    "    bmp_np = np.array(adc.bitmap(raw=True))    \n",
    "    record[i, :] = np.hstack((t, theta, bmp_np[:,:,0][0]))\n",
    "    \n",
    "    # Update the transform\n",
    "    # Positive rotation gives a negative angle\n",
    "    txa_d = Transform4f.rotate(txa_y, np.rad2deg(-omega)*dt)\n",
    "    \n",
    "    txa_x = txa_d.transform_vector(txa_x)\n",
    "    txa_y = txa_d.transform_vector(txa_y)\n",
    "    txa_z = txa_d.transform_vector(txa_z)\n",
    "    txa_new = txa_d*txa_new\n",
    "    \n",
    "    rxa_x = txa_d.transform_vector(rxa_x)\n",
    "    rxa_y = txa_d.transform_vector(rxa_y)\n",
    "    rxa_z = txa_d.transform_vector(rxa_z)\n",
    "    rxa_new = txa_d*rxa_new\n",
    "\n",
    "    theta+=omega*dt\n",
    "    t+=dt\n"
   ]
  },
  {
   "cell_type": "code",
   "execution_count": 151,
   "metadata": {},
   "outputs": [
    {
     "data": {
      "image/png": "[encoded data removed]",
      "text/plain": [
       "<Figure size 1008x504 with 2 Axes>"
      ]
     },
     "metadata": {
      "needs_background": "light"
     },
     "output_type": "display_data"
    }
   ],
   "source": [
    "# Outputs\n",
    "# record_log = 10*np.log10(np.abs(record[record>0]) + np.finfo(float).eps)\n",
    "record_log = 10*np.log10(np.abs(record[:,2:]) + np.finfo(float).eps)\n",
    "rs = (np.linspace(RX['tr_min'], RX['tr_max'], RX['tr_bins']))/2\n",
    "\n",
    "# thetas = np.arange(theta_0, theta_0 + (n_frames)*omega*dt, omega*dt)\n",
    "thetas = record[:,1]\n",
    "rr, tt = np.meshgrid(rs, thetas)\n",
    "\n",
    "minc = record_log[(record_log > -160)].min()\n",
    "maxc = record_log.max()\n",
    "\n",
    "fig1 = plt.figure(figsize=(14, 7))\n",
    "axes1 = fig1.add_subplot()\n",
    "ret = axes1.pcolormesh(np.rad2deg(tt), rr, record_log, cmap=cm.coolwarm, vmin=minc, vmax=maxc, shading='auto')\n",
    "# axes1 = fig1.add_subplot(projection='polar')\n",
    "# ret = axes1.pcolormesh(tt, rr, record_log, cmap=cm.coolwarm, vmin=minc, vmax=maxc, shading='auto')\n",
    "axes1.set_xlabel('Angle [deg]')\n",
    "axes1.set_ylabel('Range [m]')\n",
    "axes1.set_title('Return Power Swept over Angles')\n",
    "\n",
    "cbar = fig1.colorbar(ret)\n",
    "cbar.set_label('Power [dBW]')"
   ]
  },
  {
   "cell_type": "code",
   "execution_count": null,
   "metadata": {},
   "outputs": [],
   "source": []
  }
 ],
 "metadata": {
  "kernelspec": {
   "display_name": "Python 3",
   "language": "python",
   "name": "python3"
  },
  "language_info": {
   "codemirror_mode": {
    "name": "ipython",
    "version": 3
   },
   "file_extension": ".py",
   "mimetype": "text/x-python",
   "name": "python",
   "nbconvert_exporter": "python",
   "pygments_lexer": "ipython3",
   "version": "3.8.6"
  }
 },
 "nbformat": 4,
 "nbformat_minor": 4
}
