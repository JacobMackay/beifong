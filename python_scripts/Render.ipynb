{
 "cells": [
  {
   "cell_type": "markdown",
   "metadata": {},
   "source": [
    "## Rendering Beifong"
   ]
  },
  {
   "cell_type": "code",
   "execution_count": 1,
   "metadata": {},
   "outputs": [],
   "source": [
    "import os\n",
    "import numpy as np\n",
    "import mitsuba\n",
    "import enoki as ek\n",
    "\n",
    "# Set the desired mitsuba variant\n",
    "# mitsuba.set_variant('scalar_rgb')\n",
    "# mitsuba.set_variant('scalar_mono')\n",
    "mitsuba.set_variant('scalar_spectral')\n",
    "# mitsuba.set_variant('gpu_spectral')\n",
    "# mitsuba.set_variant('gpu_rgb')\n",
    "# mitsuba.set_variant('packet_spectral')\n",
    "\n",
    "from mitsuba.core import Bitmap, Struct, Thread\n",
    "from mitsuba.core.xml import load_file\n",
    "\n",
    "from matplotlib import pyplot as plt\n",
    "\n",
    "# Animation bits\n",
    "from mitsuba.core.xml import load_dict\n",
    "from mitsuba.core import Vector3f, Transform4f\n",
    "from mitsuba.core import ScalarTransform4f\n",
    "import matplotlib.animation as animation\n",
    "from matplotlib import cm\n",
    "\n",
    "# Geometry and Rotations\n",
    "from scipy.spatial.transform import Rotation"
   ]
  },
  {
   "cell_type": "markdown",
   "metadata": {},
   "source": [
    "### Simulation Setup"
   ]
  },
  {
   "cell_type": "code",
   "execution_count": 2,
   "metadata": {},
   "outputs": [],
   "source": [
    "SAM = dict({\n",
    "    'type': 'independent',\n",
    "    'sample_count': int(2**3),\n",
    "})\n",
    "\n",
    "INTEGRATOR = dict({\n",
    "    'type': 'pathlength',\n",
    "})"
   ]
  },
  {
   "cell_type": "markdown",
   "metadata": {},
   "source": [
    "### Transmitter Setup"
   ]
  },
  {
   "cell_type": "code",
   "execution_count": 3,
   "metadata": {},
   "outputs": [],
   "source": [
    "# TX = dict({\n",
    "#     'type': 'fmcw',\n",
    "#     'fc': 94e9,\n",
    "#     'bandwidth': 6e9,\n",
    "#     'tx_power': 0.1,\n",
    "#     'wrf': 2000,\n",
    "#     'rise_time': 200e-6,\n",
    "#     'hold_time': 50e-6,\n",
    "#     'fall_time': 200e-6,\n",
    "#     'wait_time': 50e-6,\n",
    "# })\n",
    "\n",
    "TX = dict({\n",
    "    'type': 'fmcw',\n",
    "    'fc': 40e3,\n",
    "    'bandwidth': 2e3,\n",
    "    'tx_power': 10e-3,\n",
    "    'wrf': 10,\n",
    "    'rise_time': 90e-3,\n",
    "    'hold_time': 1e-6,\n",
    "    'fall_time': 1e-6,\n",
    "    'wait_time': 9.998e-3,\n",
    "})"
   ]
  },
  {
   "cell_type": "markdown",
   "metadata": {},
   "source": [
    "### Receiver Setup"
   ]
  },
  {
   "cell_type": "code",
   "execution_count": 4,
   "metadata": {},
   "outputs": [],
   "source": [
    "RX = dict({\n",
    "    'type': 'hdrfilm',\n",
    "    'width': 400,\n",
    "    'height': 400,\n",
    "    'rfilter': {\n",
    "        'type': 'box'\n",
    "    },\n",
    "})"
   ]
  },
  {
   "cell_type": "markdown",
   "metadata": {},
   "source": [
    "#### Wavelength"
   ]
  },
  {
   "cell_type": "code",
   "execution_count": 5,
   "metadata": {},
   "outputs": [],
   "source": [
    "C_AIR = 340\n",
    "wlen_max = int(np.ceil(C_AIR/(TX['fc'] - TX['bandwidth']/2) * 1e9))\n",
    "wlen_min = int(np.ceil(C_AIR/(TX['fc'] + TX['bandwidth']/2) * 1e9))"
   ]
  },
  {
   "cell_type": "markdown",
   "metadata": {},
   "source": [
    "### Transmit Antenna Setup\n",
    "We should also extend this and attach a signal, similar to how emitter has a film\n",
    "<br> <br>\n",
    "Another thought, if we were doing a phasor representation, we would still need the rms power to give to the rays. We are smarter and use wigner because it has power, time and frequency.\n",
    "<br> <br>\n",
    "We could extend the radiance power to include transmit antenna bandwidth considerations."
   ]
  },
  {
   "cell_type": "code",
   "execution_count": 6,
   "metadata": {},
   "outputs": [],
   "source": [
    "# Transmit Antenna/Aperture/Array\n",
    "txa_size = np.array([20e-3, 50e-3, 1])\n",
    "# txa_size = np.array([200e-3, 100e-3, 1])\n",
    "txa_r0 = np.array([0, 0, 0.3])\n",
    "\n",
    "# Starting orientation: z, thumb down; y, index right; x middle back\n",
    "# z, boresight/up, y, right, x, forward\n",
    "txa_d0_align_z = Transform4f.rotate([0,1,0], 90)\n",
    "txa_d0_align_x = Transform4f.rotate([1,0,0], 90)\n",
    "txa_d0 = txa_d0_align_x*txa_d0_align_z\n",
    "\n",
    "txa_z = txa_d0.transform_vector([0,0,1])\n",
    "txa_y = txa_d0.transform_vector([0,1,0])\n",
    "txa_x = txa_d0.transform_vector([1,0,0])\n",
    "\n",
    "txa_trafo = Transform4f.translate(txa_r0)*txa_d0*Transform4f.scale(txa_size)\n",
    "# txa_trafo = Transform4f.translate(txa_r0)*txa_d0\n",
    "\n",
    "\n",
    "TXA = dict({\n",
    "    'type': 'rectangle',\n",
    "    'to_world': txa_trafo,\n",
    "    'emitter': {\n",
    "        'type': 'wignertransmitter',\n",
    "        'radiance': {\n",
    "            'type': 'spectrum',\n",
    "            'value': [(wlen_min, TX['tx_power']), (wlen_max, TX['tx_power'])],\n",
    "        },\n",
    "    },\n",
    "})\n",
    "\n",
    "# TXA = dict({\n",
    "#     'type': 'spot',\n",
    "#     'cutoff_angle': 25,\n",
    "#     'beam_width': 20,\n",
    "#     'intensity': {\n",
    "#         'type': 'spectrum',\n",
    "#         'value': [(wlen_min, TX['tx_power']), (wlen_max, TX['tx_power'])],\n",
    "#     },\n",
    "#     'to_world': txa_trafo,\n",
    "# })"
   ]
  },
  {
   "cell_type": "markdown",
   "metadata": {},
   "source": [
    "### Receive Antenna Setup\n",
    "\n",
    "Getting this working needs to be the next priority so that I can dump the camera centric parameters from receiver/sensor"
   ]
  },
  {
   "cell_type": "code",
   "execution_count": 7,
   "metadata": {},
   "outputs": [],
   "source": [
    "# Receive Antenna/Aperture/Array\n",
    "rxa_size = np.array([20e-3, 50e-3, 1])\n",
    "rxa_r0 = np.array([0, 0, 0.3])\n",
    "\n",
    "# Starting orientation: z, thumb down; y, index right; x middle back\n",
    "# z, boresight/up, y, right, x, forward\n",
    "rxa_d0_align_z = Transform4f.rotate([0,1,0], 90)\n",
    "rxa_d0_align_x = Transform4f.rotate([1,0,0], 90)\n",
    "rxa_d0 = rxa_d0_align_x*rxa_d0_align_z\n",
    "\n",
    "rxa_z = rxa_d0.transform_vector([0,0,1])\n",
    "rxa_y = rxa_d0.transform_vector([0,1,0])\n",
    "rxa_x = rxa_d0.transform_vector([1,0,0])\n",
    "\n",
    "rxa_trafo = Transform4f.translate(rxa_r0)*rxa_d0\n",
    "\n",
    "RXA = dict({\n",
    "    'type': 'perspective',\n",
    "    'to_world': rxa_trafo,\n",
    "    'near_clip': 0.100000,\n",
    "    'far_clip': 100.0,\n",
    "    'fov_axis': 'x',\n",
    "    'fov': 45.0,\n",
    "    'sampler': SAM,\n",
    "    'film': RX,\n",
    "})\n",
    "\n",
    "\n",
    "# rxa_trafo = rxa_d0*Transform4f.translate(rxa_r0)*Transform4f.scale(rxa_size)\n",
    "\n",
    "# RXA = dict({\n",
    "#     'type': 'rectangle',\n",
    "#     'to_world': rxa_trafo,\n",
    "#     'sensor' : {\n",
    "#         'type': 'irradiancemeter',\n",
    "#         'sampler': SAM,\n",
    "#         'film': RXF,\n",
    "#     }\n",
    "# })"
   ]
  },
  {
   "cell_type": "markdown",
   "metadata": {},
   "source": [
    "### Scene Geometry Setup\n",
    "\n",
    "Note: World Origin [0, 0, 0]; Object Direction [0, 0, 1], no rotation"
   ]
  },
  {
   "cell_type": "code",
   "execution_count": 8,
   "metadata": {},
   "outputs": [],
   "source": [
    "# Reflector\n",
    "refl_size = np.array([100e-3, 50e-3, 1])\n",
    "# refl_r0 = np.array([1, 0.5, 0.3])\n",
    "refl_r0 = np.array([1, 0, 0.3])\n",
    "\n",
    "# Starting orientation: z, thumb down; y, index right; x middle back\n",
    "# z, boresight/up, y, right, x, forward\n",
    "refl_d0_align_z = Transform4f.rotate([0,1,0], 90)\n",
    "refl_d0_align_x = Transform4f.rotate([1,0,0], 90)\n",
    "refl_d0 = refl_d0_align_x*refl_d0_align_z\n",
    "\n",
    "refl_z = refl_d0.transform_vector([0,0,1])\n",
    "refl_y = refl_d0.transform_vector([0,1,0])\n",
    "refl_x = refl_d0.transform_vector([1,0,0])\n",
    "\n",
    "refl_trafo = Transform4f.translate(refl_r0)*refl_d0*Transform4f.scale(refl_size)\n",
    "\n",
    "\n",
    "# Ground\n",
    "gnd_size = np.array([20, 20, 1])\n",
    "gnd_r0 = np.array([0, 0, 0])\n",
    "gnd_d0 = Transform4f.rotate([0,0,1], 0)\n",
    "\n",
    "gnd_trafo = Transform4f.translate(gnd_r0)*gnd_d0*Transform4f.scale(gnd_size)\n",
    "\n",
    "\n",
    "# Car\n",
    "car_size = np.array([1e-3, 1e-3, 1e-3])\n",
    "car_r0 = np.array([10, 3, 1])\n",
    "\n",
    "car_d0_align_z = Transform4f.rotate([1,0,0], 90)\n",
    "car_d0_align_x = Transform4f.rotate([0,0,1], -20)\n",
    "car_d0 = car_d0_align_x*car_d0_align_z\n",
    "\n",
    "car_z = car_d0.transform_vector([0,0,1])\n",
    "car_y = car_d0.transform_vector([0,1,0])\n",
    "car_x = car_d0.transform_vector([1,0,0])\n",
    "\n",
    "car_trafo = Transform4f.translate(car_r0)*car_d0*Transform4f.scale(car_size)"
   ]
  },
  {
   "cell_type": "markdown",
   "metadata": {},
   "source": [
    "### Object BSDFs"
   ]
  },
  {
   "cell_type": "code",
   "execution_count": 9,
   "metadata": {},
   "outputs": [],
   "source": [
    "B_GND = dict({\n",
    "    'type': 'twosided',\n",
    "    'id': 'material',\n",
    "    'bsdf': {\n",
    "        'type': 'diffuse',\n",
    "#         'type': 'plastic',\n",
    "#         'specular_reflectance': {\n",
    "        'reflectance': {\n",
    "            'type': 'spectrum',\n",
    "            'value': [(wlen_min, 0.5), (wlen_max, 0.5)],\n",
    "        },\n",
    "    },\n",
    "})\n",
    "\n",
    "B_REFL = dict({\n",
    "    'type': 'twosided',\n",
    "    'id': 'material',\n",
    "    'bsdf': {\n",
    "        'type': 'diffuse',\n",
    "#         'type': 'conductor',\n",
    "#         'type': 'roughconductor',\n",
    "        'reflectance': {\n",
    "#         'specular_reflectance': {\n",
    "            'type': 'spectrum',\n",
    "            'value': [(wlen_min, 1), (wlen_max, 1)],\n",
    "        },\n",
    "    },\n",
    "})\n",
    "\n",
    "B_CAR = dict({\n",
    "    'type': 'twosided',\n",
    "    'id': 'material',\n",
    "    'bsdf': {\n",
    "        # 'type': 'diffuse',\n",
    "        # 'reflectance': {\n",
    "        'type': 'roughconductor',\n",
    "        # 'type': 'plastic',\n",
    "        'specular_reflectance': {\n",
    "            'type': 'spectrum',\n",
    "            'value': [(wlen_min, 1), (wlen_max, 1)],\n",
    "        },\n",
    "    },\n",
    "})"
   ]
  },
  {
   "cell_type": "markdown",
   "metadata": {},
   "source": [
    "### Objects"
   ]
  },
  {
   "cell_type": "code",
   "execution_count": 10,
   "metadata": {},
   "outputs": [],
   "source": [
    "REFL = dict({\n",
    "    'type': 'rectangle',\n",
    "    'to_world': refl_trafo,\n",
    "    'bsdf': B_REFL,\n",
    "})\n",
    "\n",
    "GND = dict({\n",
    "    'type': 'rectangle',\n",
    "    'to_world': gnd_trafo,\n",
    "    'bsdf': B_GND,\n",
    "})\n",
    "\n",
    "CAR = dict({\n",
    "    'type': 'obj',\n",
    "    'filename': './Bus.obj',\n",
    "    # 'filename': './Car-body.ply',\n",
    "    # 'filename': './Motorbike_ply.ply',\n",
    "    'to_world': car_trafo,\n",
    "    'bsdf': B_CAR,\n",
    "})"
   ]
  },
  {
   "cell_type": "markdown",
   "metadata": {},
   "source": [
    "### Load All Parameters into Scene"
   ]
  },
  {
   "cell_type": "code",
   "execution_count": 11,
   "metadata": {},
   "outputs": [
    {
     "data": {
      "text/html": [
       "<span style=\"font-family: monospace; color: #000\">2021-01-07 17:10:48 INFO  main  [PluginManager] Loading plugin &quot;plugins/pathlength.so&quot; ..</span>"
      ]
     },
     "metadata": {},
     "output_type": "display_data"
    },
    {
     "data": {
      "text/html": [
       "<span style=\"font-family: monospace; color: #000\">2021-01-07 17:10:48 INFO  main  [PluginManager] Loading plugin &quot;plugins/perspective.so&quot; ..</span>"
      ]
     },
     "metadata": {},
     "output_type": "display_data"
    },
    {
     "data": {
      "text/html": [
       "<span style=\"font-family: monospace; color: #000\">2021-01-07 17:10:48 INFO  main  [PluginManager] Loading plugin &quot;plugins/independent.so&quot; ..</span>"
      ]
     },
     "metadata": {},
     "output_type": "display_data"
    },
    {
     "data": {
      "text/html": [
       "<span style=\"font-family: monospace; color: #000\">2021-01-07 17:10:48 INFO  main  [PluginManager] Loading plugin &quot;plugins/hdrfilm.so&quot; ..</span>"
      ]
     },
     "metadata": {},
     "output_type": "display_data"
    },
    {
     "data": {
      "text/html": [
       "<span style=\"font-family: monospace; color: #000\">2021-01-07 17:10:48 INFO  main  [PluginManager] Loading plugin &quot;plugins/box.so&quot; ..</span>"
      ]
     },
     "metadata": {},
     "output_type": "display_data"
    },
    {
     "data": {
      "text/html": [
       "<span style=\"font-family: monospace; color: #000\">2021-01-07 17:10:48 INFO  main  [PluginManager] Loading plugin &quot;plugins/rectangle.so&quot; ..</span>"
      ]
     },
     "metadata": {},
     "output_type": "display_data"
    },
    {
     "data": {
      "text/html": [
       "<span style=\"font-family: monospace; color: #000\">2021-01-07 17:10:48 INFO  main  [PluginManager] Loading plugin &quot;plugins/wignertransmitter.so&quot; ..</span>"
      ]
     },
     "metadata": {},
     "output_type": "display_data"
    },
    {
     "data": {
      "text/html": [
       "<span style=\"font-family: monospace; color: #000\">2021-01-07 17:10:48 INFO  main  [PluginManager] Loading plugin &quot;plugins/regular.so&quot; ..</span>"
      ]
     },
     "metadata": {},
     "output_type": "display_data"
    },
    {
     "data": {
      "text/html": [
       "<span style=\"font-family: monospace; color: #000\">2021-01-07 17:10:48 INFO  main  [PluginManager] Loading plugin &quot;plugins/d65.so&quot; ..</span>"
      ]
     },
     "metadata": {},
     "output_type": "display_data"
    },
    {
     "data": {
      "text/html": [
       "<span style=\"font-family: monospace; color: #000\">2021-01-07 17:10:48 INFO  main  [PluginManager] Loading plugin &quot;plugins/diffuse.so&quot; ..</span>"
      ]
     },
     "metadata": {},
     "output_type": "display_data"
    },
    {
     "data": {
      "text/html": [
       "<span style=\"font-family: monospace; color: #000\">2021-01-07 17:10:48 INFO  main  [PluginManager] Loading plugin &quot;plugins/uniform.so&quot; ..</span>"
      ]
     },
     "metadata": {},
     "output_type": "display_data"
    },
    {
     "data": {
      "text/html": [
       "<span style=\"font-family: monospace; color: #000\">2021-01-07 17:10:48 INFO  main  [PluginManager] Loading plugin &quot;plugins/twosided.so&quot; ..</span>"
      ]
     },
     "metadata": {},
     "output_type": "display_data"
    },
    {
     "data": {
      "text/html": [
       "<span style=\"font-family: monospace; color: #000\">2021-01-07 17:10:48 INFO  main  [ShapeKDTree] Building a SAH kd-tree (3 primitives) ..</span>"
      ]
     },
     "metadata": {},
     "output_type": "display_data"
    },
    {
     "data": {
      "text/html": [
       "<span style=\"font-family: monospace; color: #000\">2021-01-07 17:10:48 INFO  main  [ShapeKDTree] Finished. (20 B of storage, took 0ms)</span>"
      ]
     },
     "metadata": {},
     "output_type": "display_data"
    }
   ],
   "source": [
    "scene = load_dict({\n",
    "    'type': 'scene',\n",
    "    'integrator': INTEGRATOR,\n",
    "    'sensor': RXA,\n",
    "    'emitter': TXA,\n",
    "    's0': REFL,\n",
    "    's1': GND,\n",
    "#     's2': CAR,\n",
    "})"
   ]
  },
  {
   "cell_type": "markdown",
   "metadata": {},
   "source": [
    "## Render the Scene\n",
    "After rendering, the rendered data is stored in the film"
   ]
  },
  {
   "cell_type": "code",
   "execution_count": 12,
   "metadata": {},
   "outputs": [
    {
     "data": {
      "text/html": [
       "<span style=\"font-family: monospace; color: #000\">2021-01-07 17:10:50 INFO  main  [SamplingIntegrator] Starting render job (400x400, 8 samples, 24 threads)</span>"
      ]
     },
     "metadata": {},
     "output_type": "display_data"
    },
    {
     "data": {
      "application/vnd.jupyter.widget-view+json": {
       "model_id": "9715aa8025d7431bbd13a65ca2b5e67c",
       "version_major": 2,
       "version_minor": 0
      },
      "text/plain": [
       "VBox(children=(HTML(value=''), FloatProgress(value=0.0, bar_style='info', layout=Layout(width='100%'), max=1.0…"
      ]
     },
     "metadata": {},
     "output_type": "display_data"
    },
    {
     "data": {
      "text/html": [
       "<span style=\"font-family: monospace; color: #000\">2021-01-07 17:10:50 INFO  main  [SamplingIntegrator] Rendering finished. (took 54ms)</span>"
      ]
     },
     "metadata": {},
     "output_type": "display_data"
    },
    {
     "data": {
      "text/plain": [
       "True"
      ]
     },
     "execution_count": 12,
     "metadata": {},
     "output_type": "execute_result"
    }
   ],
   "source": [
    "scene.integrator().render(scene, scene.sensors()[0])\n",
    "# scene.integrator().receive(scene, scene.sensors()[0])"
   ]
  },
  {
   "cell_type": "code",
   "execution_count": 13,
   "metadata": {},
   "outputs": [],
   "source": [
    "film = scene.sensors()[0].film()\n",
    "bmp = film.bitmap(raw=True)\n",
    "bmp_np = np.array(bmp)"
   ]
  },
  {
   "cell_type": "code",
   "execution_count": 21,
   "metadata": {},
   "outputs": [
    {
     "name": "stderr",
     "output_type": "stream",
     "text": [
      "Clipping input data to the valid range for imshow with RGB data ([0..1] for floats or [0..255] for integers).\n"
     ]
    },
    {
     "data": {
      "text/plain": [
       "<matplotlib.image.AxesImage at 0x7f8900711670>"
      ]
     },
     "execution_count": 21,
     "metadata": {},
     "output_type": "execute_result"
    },
    {
     "data": {
      "image/png": "[encoded data removed]",
      "text/plain": [
       "<Figure size 1008x504 with 1 Axes>"
      ]
     },
     "metadata": {
      "needs_background": "light"
     },
     "output_type": "display_data"
    }
   ],
   "source": [
    "fig1 = plt.figure(figsize=(14, 7))\n",
    "axes1 = fig1.add_subplot()\n",
    "\n",
    "# power_max = 100*TX[\"tx_power\"]\n",
    "# mask = bmp_np[:,:,0:3]>0\n",
    "# mask *= bmp_np[:,:,0:3]<power_max\n",
    "# vals = 10*np.log10((bmp_np[:,:,0:3]*mask/SAM[\"sample_count\"]) + np.finfo(float).eps)\n",
    "\n",
    "mask = bmp_np[:,:,0:3]>0\n",
    "gain = 1e4\n",
    "vals = bmp_np[:,:,0:3]*mask*gain\n",
    "\n",
    "axes1.imshow(vals, interpolation='nearest')"
   ]
  },
  {
   "cell_type": "code",
   "execution_count": 48,
   "metadata": {},
   "outputs": [],
   "source": [
    "bmp_ss = bmp_np[:, :, 0:5]\n",
    "bmpout = Bitmap(bmp_ss, Bitmap.PixelFormat.XYZAW)\n",
    "bmpout.write('./transients/' + 'bmp_ss.exr')\n",
    "bmpout.convert(Bitmap.PixelFormat.RGB, Struct.Type.UInt8, srgb_gamma=True).write('./transients/' + 'bmp_ss' + '.jpg')\n"
   ]
  },
  {
   "cell_type": "code",
   "execution_count": 244,
   "metadata": {},
   "outputs": [],
   "source": [
    "# # Write out rendering as high dynamic range OpenEXR file\n",
    "# # film.set_destination_file('./' + name + '.exr')\n",
    "# # film.develop()\n",
    "#\n",
    "# bmp2 = film.bitmap(raw=True)\n",
    "# bmp22_np = np.array(bmp2)\n",
    "# print(bmp22_np.shape)\n",
    "# # print(bmp22_np.tolist())\n",
    "#\n",
    "# # Section for images ----------------------------------------------------------\n",
    "# bmp_ss = bmp22_np[:, :, 0:5]\n",
    "# bmpout = Bitmap(bmp_ss, Bitmap.PixelFormat.XYZAW)\n",
    "# bmpout.write('./transients/' + 'bmp_ss.exr')\n",
    "# bmpout.convert(Bitmap.PixelFormat.RGB, Struct.Type.UInt8, srgb_gamma=True).write('./transients/' + 'bmp_ss' + '.jpg')"
   ]
  },
  {
   "cell_type": "markdown",
   "metadata": {},
   "source": [
    "## Rotate about the origin and render"
   ]
  },
  {
   "cell_type": "code",
   "execution_count": 245,
   "metadata": {},
   "outputs": [
    {
     "data": {
      "text/html": [
       "<span style=\"font-family: monospace; color: #000\">2020-12-16 12:59:52 INFO  main  [ShapeKDTree] Building a SAH kd-tree (3 primitives) ..</span>"
      ]
     },
     "metadata": {},
     "output_type": "display_data"
    },
    {
     "data": {
      "text/html": [
       "<span style=\"font-family: monospace; color: #000\">2020-12-16 12:59:52 INFO  main  [ShapeKDTree] Finished. (20 B of storage, took 1ms)</span>"
      ]
     },
     "metadata": {},
     "output_type": "display_data"
    },
    {
     "data": {
      "text/html": [
       "<span style=\"font-family: monospace; color: #000\">2020-12-16 12:59:52 INFO  main  [SamplingIntegrator] Starting render job (400x400, 8 samples, 8 threads)</span>"
      ]
     },
     "metadata": {},
     "output_type": "display_data"
    },
    {
     "data": {
      "application/vnd.jupyter.widget-view+json": {
       "model_id": "ca06037c10e04ca1ae301e6ec703c83e",
       "version_major": 2,
       "version_minor": 0
      },
      "text/plain": [
       "VBox(children=(HTML(value=''), FloatProgress(value=0.0, bar_style='info', layout=Layout(width='100%'), max=1.0…"
      ]
     },
     "metadata": {},
     "output_type": "display_data"
    },
    {
     "data": {
      "text/html": [
       "<span style=\"font-family: monospace; color: #000\">2020-12-16 12:59:53 INFO  main  [SamplingIntegrator] Rendering finished. (took 652ms)</span>"
      ]
     },
     "metadata": {},
     "output_type": "display_data"
    },
    {
     "data": {
      "text/html": [
       "<span style=\"font-family: monospace; color: #000\">2020-12-16 12:59:53 INFO  main  [ShapeKDTree] Building a SAH kd-tree (3 primitives) ..</span>"
      ]
     },
     "metadata": {},
     "output_type": "display_data"
    },
    {
     "data": {
      "text/html": [
       "<span style=\"font-family: monospace; color: #000\">2020-12-16 12:59:53 INFO  main  [ShapeKDTree] Finished. (20 B of storage, took 0ms)</span>"
      ]
     },
     "metadata": {},
     "output_type": "display_data"
    },
    {
     "data": {
      "text/html": [
       "<span style=\"font-family: monospace; color: #000\">2020-12-16 12:59:53 INFO  main  [SamplingIntegrator] Starting render job (400x400, 8 samples, 8 threads)</span>"
      ]
     },
     "metadata": {},
     "output_type": "display_data"
    },
    {
     "data": {
      "application/vnd.jupyter.widget-view+json": {
       "model_id": "080b78edcf36404c95bbf27bd55e233a",
       "version_major": 2,
       "version_minor": 0
      },
      "text/plain": [
       "VBox(children=(HTML(value=''), FloatProgress(value=0.0, bar_style='info', layout=Layout(width='100%'), max=1.0…"
      ]
     },
     "metadata": {},
     "output_type": "display_data"
    },
    {
     "data": {
      "text/html": [
       "<span style=\"font-family: monospace; color: #000\">2020-12-16 12:59:54 INFO  main  [SamplingIntegrator] Rendering finished. (took 656ms)</span>"
      ]
     },
     "metadata": {},
     "output_type": "display_data"
    },
    {
     "data": {
      "text/html": [
       "<span style=\"font-family: monospace; color: #000\">2020-12-16 12:59:54 INFO  main  [ShapeKDTree] Building a SAH kd-tree (3 primitives) ..</span>"
      ]
     },
     "metadata": {},
     "output_type": "display_data"
    },
    {
     "data": {
      "text/html": [
       "<span style=\"font-family: monospace; color: #000\">2020-12-16 12:59:54 INFO  main  [ShapeKDTree] Finished. (20 B of storage, took 1ms)</span>"
      ]
     },
     "metadata": {},
     "output_type": "display_data"
    },
    {
     "data": {
      "text/html": [
       "<span style=\"font-family: monospace; color: #000\">2020-12-16 12:59:55 INFO  main  [SamplingIntegrator] Starting render job (400x400, 8 samples, 8 threads)</span>"
      ]
     },
     "metadata": {},
     "output_type": "display_data"
    },
    {
     "data": {
      "application/vnd.jupyter.widget-view+json": {
       "model_id": "60f4ad6275434c069f18a947318f0dfa",
       "version_major": 2,
       "version_minor": 0
      },
      "text/plain": [
       "VBox(children=(HTML(value=''), FloatProgress(value=0.0, bar_style='info', layout=Layout(width='100%'), max=1.0…"
      ]
     },
     "metadata": {},
     "output_type": "display_data"
    },
    {
     "data": {
      "text/html": [
       "<span style=\"font-family: monospace; color: #000\">2020-12-16 12:59:55 INFO  main  [SamplingIntegrator] Rendering finished. (took 654ms)</span>"
      ]
     },
     "metadata": {},
     "output_type": "display_data"
    },
    {
     "data": {
      "text/html": [
       "<span style=\"font-family: monospace; color: #000\">2020-12-16 12:59:56 INFO  main  [ShapeKDTree] Building a SAH kd-tree (3 primitives) ..</span>"
      ]
     },
     "metadata": {},
     "output_type": "display_data"
    },
    {
     "data": {
      "text/html": [
       "<span style=\"font-family: monospace; color: #000\">2020-12-16 12:59:56 INFO  main  [ShapeKDTree] Finished. (20 B of storage, took 0ms)</span>"
      ]
     },
     "metadata": {},
     "output_type": "display_data"
    },
    {
     "data": {
      "text/html": [
       "<span style=\"font-family: monospace; color: #000\">2020-12-16 12:59:56 INFO  main  [SamplingIntegrator] Starting render job (400x400, 8 samples, 8 threads)</span>"
      ]
     },
     "metadata": {},
     "output_type": "display_data"
    },
    {
     "data": {
      "application/vnd.jupyter.widget-view+json": {
       "model_id": "107cf8029a2948a799a69caf889a1bd6",
       "version_major": 2,
       "version_minor": 0
      },
      "text/plain": [
       "VBox(children=(HTML(value=''), FloatProgress(value=0.0, bar_style='info', layout=Layout(width='100%'), max=1.0…"
      ]
     },
     "metadata": {},
     "output_type": "display_data"
    },
    {
     "data": {
      "text/html": [
       "<span style=\"font-family: monospace; color: #000\">2020-12-16 12:59:57 INFO  main  [SamplingIntegrator] Rendering finished. (took 674ms)</span>"
      ]
     },
     "metadata": {},
     "output_type": "display_data"
    },
    {
     "data": {
      "text/html": [
       "<span style=\"font-family: monospace; color: #000\">2020-12-16 12:59:57 INFO  main  [ShapeKDTree] Building a SAH kd-tree (3 primitives) ..</span>"
      ]
     },
     "metadata": {},
     "output_type": "display_data"
    },
    {
     "data": {
      "text/html": [
       "<span style=\"font-family: monospace; color: #000\">2020-12-16 12:59:57 INFO  main  [ShapeKDTree] Finished. (20 B of storage, took 0ms)</span>"
      ]
     },
     "metadata": {},
     "output_type": "display_data"
    },
    {
     "data": {
      "text/html": [
       "<span style=\"font-family: monospace; color: #000\">2020-12-16 12:59:57 INFO  main  [SamplingIntegrator] Starting render job (400x400, 8 samples, 8 threads)</span>"
      ]
     },
     "metadata": {},
     "output_type": "display_data"
    },
    {
     "data": {
      "application/vnd.jupyter.widget-view+json": {
       "model_id": "c2169d03d4b44623aa51459456d4c1d5",
       "version_major": 2,
       "version_minor": 0
      },
      "text/plain": [
       "VBox(children=(HTML(value=''), FloatProgress(value=0.0, bar_style='info', layout=Layout(width='100%'), max=1.0…"
      ]
     },
     "metadata": {},
     "output_type": "display_data"
    },
    {
     "data": {
      "text/html": [
       "<span style=\"font-family: monospace; color: #000\">2020-12-16 12:59:58 INFO  main  [SamplingIntegrator] Rendering finished. (took 650ms)</span>"
      ]
     },
     "metadata": {},
     "output_type": "display_data"
    },
    {
     "data": {
      "text/html": [
       "<span style=\"font-family: monospace; color: #000\">2020-12-16 12:59:58 INFO  main  [ShapeKDTree] Building a SAH kd-tree (3 primitives) ..</span>"
      ]
     },
     "metadata": {},
     "output_type": "display_data"
    },
    {
     "data": {
      "text/html": [
       "<span style=\"font-family: monospace; color: #000\">2020-12-16 12:59:58 INFO  main  [ShapeKDTree] Finished. (20 B of storage, took 1ms)</span>"
      ]
     },
     "metadata": {},
     "output_type": "display_data"
    },
    {
     "data": {
      "text/html": [
       "<span style=\"font-family: monospace; color: #000\">2020-12-16 12:59:59 INFO  main  [SamplingIntegrator] Starting render job (400x400, 8 samples, 8 threads)</span>"
      ]
     },
     "metadata": {},
     "output_type": "display_data"
    },
    {
     "data": {
      "application/vnd.jupyter.widget-view+json": {
       "model_id": "0b466dba44fa4cc78330cffa468a4571",
       "version_major": 2,
       "version_minor": 0
      },
      "text/plain": [
       "VBox(children=(HTML(value=''), FloatProgress(value=0.0, bar_style='info', layout=Layout(width='100%'), max=1.0…"
      ]
     },
     "metadata": {},
     "output_type": "display_data"
    },
    {
     "data": {
      "text/html": [
       "<span style=\"font-family: monospace; color: #000\">2020-12-16 12:59:59 INFO  main  [SamplingIntegrator] Rendering finished. (took 657ms)</span>"
      ]
     },
     "metadata": {},
     "output_type": "display_data"
    },
    {
     "data": {
      "text/html": [
       "<span style=\"font-family: monospace; color: #000\">2020-12-16 13:00:00 INFO  main  [ShapeKDTree] Building a SAH kd-tree (3 primitives) ..</span>"
      ]
     },
     "metadata": {},
     "output_type": "display_data"
    },
    {
     "data": {
      "text/html": [
       "<span style=\"font-family: monospace; color: #000\">2020-12-16 13:00:00 INFO  main  [ShapeKDTree] Finished. (20 B of storage, took 1ms)</span>"
      ]
     },
     "metadata": {},
     "output_type": "display_data"
    },
    {
     "data": {
      "text/html": [
       "<span style=\"font-family: monospace; color: #000\">2020-12-16 13:00:00 INFO  main  [SamplingIntegrator] Starting render job (400x400, 8 samples, 8 threads)</span>"
      ]
     },
     "metadata": {},
     "output_type": "display_data"
    },
    {
     "data": {
      "application/vnd.jupyter.widget-view+json": {
       "model_id": "3d1ffb406d624599905886ac66902aa9",
       "version_major": 2,
       "version_minor": 0
      },
      "text/plain": [
       "VBox(children=(HTML(value=''), FloatProgress(value=0.0, bar_style='info', layout=Layout(width='100%'), max=1.0…"
      ]
     },
     "metadata": {},
     "output_type": "display_data"
    },
    {
     "data": {
      "text/html": [
       "<span style=\"font-family: monospace; color: #000\">2020-12-16 13:00:01 INFO  main  [SamplingIntegrator] Rendering finished. (took 653ms)</span>"
      ]
     },
     "metadata": {},
     "output_type": "display_data"
    },
    {
     "data": {
      "text/html": [
       "<span style=\"font-family: monospace; color: #000\">2020-12-16 13:00:01 INFO  main  [ShapeKDTree] Building a SAH kd-tree (3 primitives) ..</span>"
      ]
     },
     "metadata": {},
     "output_type": "display_data"
    },
    {
     "data": {
      "text/html": [
       "<span style=\"font-family: monospace; color: #000\">2020-12-16 13:00:01 INFO  main  [ShapeKDTree] Finished. (20 B of storage, took 0ms)</span>"
      ]
     },
     "metadata": {},
     "output_type": "display_data"
    },
    {
     "data": {
      "text/html": [
       "<span style=\"font-family: monospace; color: #000\">2020-12-16 13:00:01 INFO  main  [SamplingIntegrator] Starting render job (400x400, 8 samples, 8 threads)</span>"
      ]
     },
     "metadata": {},
     "output_type": "display_data"
    },
    {
     "data": {
      "application/vnd.jupyter.widget-view+json": {
       "model_id": "09b0f4ece3a34af0a52e4a890a41679d",
       "version_major": 2,
       "version_minor": 0
      },
      "text/plain": [
       "VBox(children=(HTML(value=''), FloatProgress(value=0.0, bar_style='info', layout=Layout(width='100%'), max=1.0…"
      ]
     },
     "metadata": {},
     "output_type": "display_data"
    },
    {
     "data": {
      "text/html": [
       "<span style=\"font-family: monospace; color: #000\">2020-12-16 13:00:02 INFO  main  [SamplingIntegrator] Rendering finished. (took 646ms)</span>"
      ]
     },
     "metadata": {},
     "output_type": "display_data"
    },
    {
     "data": {
      "text/html": [
       "<span style=\"font-family: monospace; color: #000\">2020-12-16 13:00:02 INFO  main  [ShapeKDTree] Building a SAH kd-tree (3 primitives) ..</span>"
      ]
     },
     "metadata": {},
     "output_type": "display_data"
    },
    {
     "data": {
      "text/html": [
       "<span style=\"font-family: monospace; color: #000\">2020-12-16 13:00:02 INFO  main  [ShapeKDTree] Finished. (20 B of storage, took 0ms)</span>"
      ]
     },
     "metadata": {},
     "output_type": "display_data"
    },
    {
     "data": {
      "text/html": [
       "<span style=\"font-family: monospace; color: #000\">2020-12-16 13:00:03 INFO  main  [SamplingIntegrator] Starting render job (400x400, 8 samples, 8 threads)</span>"
      ]
     },
     "metadata": {},
     "output_type": "display_data"
    },
    {
     "data": {
      "application/vnd.jupyter.widget-view+json": {
       "model_id": "d8e874de41e34941b037007bc4384b8a",
       "version_major": 2,
       "version_minor": 0
      },
      "text/plain": [
       "VBox(children=(HTML(value=''), FloatProgress(value=0.0, bar_style='info', layout=Layout(width='100%'), max=1.0…"
      ]
     },
     "metadata": {},
     "output_type": "display_data"
    },
    {
     "data": {
      "text/html": [
       "<span style=\"font-family: monospace; color: #000\">2020-12-16 13:00:03 INFO  main  [SamplingIntegrator] Rendering finished. (took 652ms)</span>"
      ]
     },
     "metadata": {},
     "output_type": "display_data"
    },
    {
     "data": {
      "text/html": [
       "<span style=\"font-family: monospace; color: #000\">2020-12-16 13:00:04 INFO  main  [ShapeKDTree] Building a SAH kd-tree (3 primitives) ..</span>"
      ]
     },
     "metadata": {},
     "output_type": "display_data"
    },
    {
     "data": {
      "text/html": [
       "<span style=\"font-family: monospace; color: #000\">2020-12-16 13:00:04 INFO  main  [ShapeKDTree] Finished. (20 B of storage, took 1ms)</span>"
      ]
     },
     "metadata": {},
     "output_type": "display_data"
    },
    {
     "data": {
      "text/html": [
       "<span style=\"font-family: monospace; color: #000\">2020-12-16 13:00:04 INFO  main  [SamplingIntegrator] Starting render job (400x400, 8 samples, 8 threads)</span>"
      ]
     },
     "metadata": {},
     "output_type": "display_data"
    },
    {
     "data": {
      "application/vnd.jupyter.widget-view+json": {
       "model_id": "bd88460c245744758838a3b0fa2f9bbe",
       "version_major": 2,
       "version_minor": 0
      },
      "text/plain": [
       "VBox(children=(HTML(value=''), FloatProgress(value=0.0, bar_style='info', layout=Layout(width='100%'), max=1.0…"
      ]
     },
     "metadata": {},
     "output_type": "display_data"
    },
    {
     "data": {
      "text/html": [
       "<span style=\"font-family: monospace; color: #000\">2020-12-16 13:00:05 INFO  main  [SamplingIntegrator] Rendering finished. (took 653ms)</span>"
      ]
     },
     "metadata": {},
     "output_type": "display_data"
    },
    {
     "data": {
      "text/html": [
       "<span style=\"font-family: monospace; color: #000\">2020-12-16 13:00:05 INFO  main  [ShapeKDTree] Building a SAH kd-tree (3 primitives) ..</span>"
      ]
     },
     "metadata": {},
     "output_type": "display_data"
    },
    {
     "data": {
      "text/html": [
       "<span style=\"font-family: monospace; color: #000\">2020-12-16 13:00:05 INFO  main  [ShapeKDTree] Finished. (20 B of storage, took 0ms)</span>"
      ]
     },
     "metadata": {},
     "output_type": "display_data"
    },
    {
     "data": {
      "text/html": [
       "<span style=\"font-family: monospace; color: #000\">2020-12-16 13:00:05 INFO  main  [SamplingIntegrator] Starting render job (400x400, 8 samples, 8 threads)</span>"
      ]
     },
     "metadata": {},
     "output_type": "display_data"
    },
    {
     "data": {
      "application/vnd.jupyter.widget-view+json": {
       "model_id": "3538c454bfbd4249b857f1377f40b6f7",
       "version_major": 2,
       "version_minor": 0
      },
      "text/plain": [
       "VBox(children=(HTML(value=''), FloatProgress(value=0.0, bar_style='info', layout=Layout(width='100%'), max=1.0…"
      ]
     },
     "metadata": {},
     "output_type": "display_data"
    },
    {
     "data": {
      "text/html": [
       "<span style=\"font-family: monospace; color: #000\">2020-12-16 13:00:06 INFO  main  [SamplingIntegrator] Rendering finished. (took 696ms)</span>"
      ]
     },
     "metadata": {},
     "output_type": "display_data"
    },
    {
     "data": {
      "text/html": [
       "<span style=\"font-family: monospace; color: #000\">2020-12-16 13:00:06 INFO  main  [ShapeKDTree] Building a SAH kd-tree (3 primitives) ..</span>"
      ]
     },
     "metadata": {},
     "output_type": "display_data"
    },
    {
     "data": {
      "text/html": [
       "<span style=\"font-family: monospace; color: #000\">2020-12-16 13:00:06 INFO  main  [ShapeKDTree] Finished. (20 B of storage, took 0ms)</span>"
      ]
     },
     "metadata": {},
     "output_type": "display_data"
    },
    {
     "data": {
      "text/html": [
       "<span style=\"font-family: monospace; color: #000\">2020-12-16 13:00:07 INFO  main  [SamplingIntegrator] Starting render job (400x400, 8 samples, 8 threads)</span>"
      ]
     },
     "metadata": {},
     "output_type": "display_data"
    },
    {
     "data": {
      "application/vnd.jupyter.widget-view+json": {
       "model_id": "aa0c8603d1af428c9fbfbe0e0dc73504",
       "version_major": 2,
       "version_minor": 0
      },
      "text/plain": [
       "VBox(children=(HTML(value=''), FloatProgress(value=0.0, bar_style='info', layout=Layout(width='100%'), max=1.0…"
      ]
     },
     "metadata": {},
     "output_type": "display_data"
    },
    {
     "data": {
      "text/html": [
       "<span style=\"font-family: monospace; color: #000\">2020-12-16 13:00:07 INFO  main  [SamplingIntegrator] Rendering finished. (took 661ms)</span>"
      ]
     },
     "metadata": {},
     "output_type": "display_data"
    },
    {
     "data": {
      "text/html": [
       "<span style=\"font-family: monospace; color: #000\">2020-12-16 13:00:08 INFO  main  [ShapeKDTree] Building a SAH kd-tree (3 primitives) ..</span>"
      ]
     },
     "metadata": {},
     "output_type": "display_data"
    },
    {
     "data": {
      "text/html": [
       "<span style=\"font-family: monospace; color: #000\">2020-12-16 13:00:08 INFO  main  [ShapeKDTree] Finished. (20 B of storage, took 0ms)</span>"
      ]
     },
     "metadata": {},
     "output_type": "display_data"
    },
    {
     "data": {
      "text/html": [
       "<span style=\"font-family: monospace; color: #000\">2020-12-16 13:00:08 INFO  main  [SamplingIntegrator] Starting render job (400x400, 8 samples, 8 threads)</span>"
      ]
     },
     "metadata": {},
     "output_type": "display_data"
    },
    {
     "data": {
      "application/vnd.jupyter.widget-view+json": {
       "model_id": "ae0b4dc958ba4200a3f145de79061215",
       "version_major": 2,
       "version_minor": 0
      },
      "text/plain": [
       "VBox(children=(HTML(value=''), FloatProgress(value=0.0, bar_style='info', layout=Layout(width='100%'), max=1.0…"
      ]
     },
     "metadata": {},
     "output_type": "display_data"
    },
    {
     "data": {
      "text/html": [
       "<span style=\"font-family: monospace; color: #000\">2020-12-16 13:00:09 INFO  main  [SamplingIntegrator] Rendering finished. (took 661ms)</span>"
      ]
     },
     "metadata": {},
     "output_type": "display_data"
    },
    {
     "data": {
      "text/html": [
       "<span style=\"font-family: monospace; color: #000\">2020-12-16 13:00:09 INFO  main  [ShapeKDTree] Building a SAH kd-tree (3 primitives) ..</span>"
      ]
     },
     "metadata": {},
     "output_type": "display_data"
    },
    {
     "data": {
      "text/html": [
       "<span style=\"font-family: monospace; color: #000\">2020-12-16 13:00:09 INFO  main  [ShapeKDTree] Finished. (20 B of storage, took 0ms)</span>"
      ]
     },
     "metadata": {},
     "output_type": "display_data"
    },
    {
     "data": {
      "text/html": [
       "<span style=\"font-family: monospace; color: #000\">2020-12-16 13:00:09 INFO  main  [SamplingIntegrator] Starting render job (400x400, 8 samples, 8 threads)</span>"
      ]
     },
     "metadata": {},
     "output_type": "display_data"
    },
    {
     "data": {
      "application/vnd.jupyter.widget-view+json": {
       "model_id": "610225cfb59540b6a8bda9c52605b5b5",
       "version_major": 2,
       "version_minor": 0
      },
      "text/plain": [
       "VBox(children=(HTML(value=''), FloatProgress(value=0.0, bar_style='info', layout=Layout(width='100%'), max=1.0…"
      ]
     },
     "metadata": {},
     "output_type": "display_data"
    },
    {
     "data": {
      "text/html": [
       "<span style=\"font-family: monospace; color: #000\">2020-12-16 13:00:10 INFO  main  [SamplingIntegrator] Rendering finished. (took 647ms)</span>"
      ]
     },
     "metadata": {},
     "output_type": "display_data"
    },
    {
     "data": {
      "text/html": [
       "<span style=\"font-family: monospace; color: #000\">2020-12-16 13:00:10 INFO  main  [ShapeKDTree] Building a SAH kd-tree (3 primitives) ..</span>"
      ]
     },
     "metadata": {},
     "output_type": "display_data"
    },
    {
     "data": {
      "text/html": [
       "<span style=\"font-family: monospace; color: #000\">2020-12-16 13:00:10 INFO  main  [ShapeKDTree] Finished. (20 B of storage, took 0ms)</span>"
      ]
     },
     "metadata": {},
     "output_type": "display_data"
    },
    {
     "data": {
      "text/html": [
       "<span style=\"font-family: monospace; color: #000\">2020-12-16 13:00:11 INFO  main  [SamplingIntegrator] Starting render job (400x400, 8 samples, 8 threads)</span>"
      ]
     },
     "metadata": {},
     "output_type": "display_data"
    },
    {
     "data": {
      "application/vnd.jupyter.widget-view+json": {
       "model_id": "c6b16ec0bbfd4c6bb02ccab0460dc234",
       "version_major": 2,
       "version_minor": 0
      },
      "text/plain": [
       "VBox(children=(HTML(value=''), FloatProgress(value=0.0, bar_style='info', layout=Layout(width='100%'), max=1.0…"
      ]
     },
     "metadata": {},
     "output_type": "display_data"
    },
    {
     "data": {
      "text/html": [
       "<span style=\"font-family: monospace; color: #000\">2020-12-16 13:00:11 INFO  main  [SamplingIntegrator] Rendering finished. (took 649ms)</span>"
      ]
     },
     "metadata": {},
     "output_type": "display_data"
    },
    {
     "data": {
      "text/html": [
       "<span style=\"font-family: monospace; color: #000\">2020-12-16 13:00:12 INFO  main  [ShapeKDTree] Building a SAH kd-tree (3 primitives) ..</span>"
      ]
     },
     "metadata": {},
     "output_type": "display_data"
    },
    {
     "data": {
      "text/html": [
       "<span style=\"font-family: monospace; color: #000\">2020-12-16 13:00:12 INFO  main  [ShapeKDTree] Finished. (20 B of storage, took 1ms)</span>"
      ]
     },
     "metadata": {},
     "output_type": "display_data"
    },
    {
     "data": {
      "text/html": [
       "<span style=\"font-family: monospace; color: #000\">2020-12-16 13:00:12 INFO  main  [SamplingIntegrator] Starting render job (400x400, 8 samples, 8 threads)</span>"
      ]
     },
     "metadata": {},
     "output_type": "display_data"
    },
    {
     "data": {
      "application/vnd.jupyter.widget-view+json": {
       "model_id": "ddfa49b9d7954fb6aa23ec359e736019",
       "version_major": 2,
       "version_minor": 0
      },
      "text/plain": [
       "VBox(children=(HTML(value=''), FloatProgress(value=0.0, bar_style='info', layout=Layout(width='100%'), max=1.0…"
      ]
     },
     "metadata": {},
     "output_type": "display_data"
    },
    {
     "data": {
      "text/html": [
       "<span style=\"font-family: monospace; color: #000\">2020-12-16 13:00:13 INFO  main  [SamplingIntegrator] Rendering finished. (took 658ms)</span>"
      ]
     },
     "metadata": {},
     "output_type": "display_data"
    },
    {
     "data": {
      "text/html": [
       "<span style=\"font-family: monospace; color: #000\">2020-12-16 13:00:13 INFO  main  [ShapeKDTree] Building a SAH kd-tree (3 primitives) ..</span>"
      ]
     },
     "metadata": {},
     "output_type": "display_data"
    },
    {
     "data": {
      "text/html": [
       "<span style=\"font-family: monospace; color: #000\">2020-12-16 13:00:13 INFO  main  [ShapeKDTree] Finished. (20 B of storage, took 0ms)</span>"
      ]
     },
     "metadata": {},
     "output_type": "display_data"
    },
    {
     "data": {
      "text/html": [
       "<span style=\"font-family: monospace; color: #000\">2020-12-16 13:00:13 INFO  main  [SamplingIntegrator] Starting render job (400x400, 8 samples, 8 threads)</span>"
      ]
     },
     "metadata": {},
     "output_type": "display_data"
    },
    {
     "data": {
      "application/vnd.jupyter.widget-view+json": {
       "model_id": "36bf4d08ade74c699456d2a05bd45b25",
       "version_major": 2,
       "version_minor": 0
      },
      "text/plain": [
       "VBox(children=(HTML(value=''), FloatProgress(value=0.0, bar_style='info', layout=Layout(width='100%'), max=1.0…"
      ]
     },
     "metadata": {},
     "output_type": "display_data"
    },
    {
     "data": {
      "text/html": [
       "<span style=\"font-family: monospace; color: #000\">2020-12-16 13:00:14 INFO  main  [SamplingIntegrator] Rendering finished. (took 660ms)</span>"
      ]
     },
     "metadata": {},
     "output_type": "display_data"
    },
    {
     "data": {
      "text/html": [
       "<span style=\"font-family: monospace; color: #000\">2020-12-16 13:00:14 INFO  main  [ShapeKDTree] Building a SAH kd-tree (3 primitives) ..</span>"
      ]
     },
     "metadata": {},
     "output_type": "display_data"
    },
    {
     "data": {
      "text/html": [
       "<span style=\"font-family: monospace; color: #000\">2020-12-16 13:00:14 INFO  main  [ShapeKDTree] Finished. (20 B of storage, took 1ms)</span>"
      ]
     },
     "metadata": {},
     "output_type": "display_data"
    },
    {
     "data": {
      "text/html": [
       "<span style=\"font-family: monospace; color: #000\">2020-12-16 13:00:15 INFO  main  [SamplingIntegrator] Starting render job (400x400, 8 samples, 8 threads)</span>"
      ]
     },
     "metadata": {},
     "output_type": "display_data"
    },
    {
     "data": {
      "application/vnd.jupyter.widget-view+json": {
       "model_id": "c5e03e13c8714adbb30cc23a048b5362",
       "version_major": 2,
       "version_minor": 0
      },
      "text/plain": [
       "VBox(children=(HTML(value=''), FloatProgress(value=0.0, bar_style='info', layout=Layout(width='100%'), max=1.0…"
      ]
     },
     "metadata": {},
     "output_type": "display_data"
    },
    {
     "data": {
      "text/html": [
       "<span style=\"font-family: monospace; color: #000\">2020-12-16 13:00:15 INFO  main  [SamplingIntegrator] Rendering finished. (took 652ms)</span>"
      ]
     },
     "metadata": {},
     "output_type": "display_data"
    },
    {
     "data": {
      "text/html": [
       "<span style=\"font-family: monospace; color: #000\">2020-12-16 13:00:15 INFO  main  [ShapeKDTree] Building a SAH kd-tree (3 primitives) ..</span>"
      ]
     },
     "metadata": {},
     "output_type": "display_data"
    },
    {
     "data": {
      "text/html": [
       "<span style=\"font-family: monospace; color: #000\">2020-12-16 13:00:15 INFO  main  [ShapeKDTree] Finished. (20 B of storage, took 1ms)</span>"
      ]
     },
     "metadata": {},
     "output_type": "display_data"
    },
    {
     "data": {
      "text/html": [
       "<span style=\"font-family: monospace; color: #000\">2020-12-16 13:00:16 INFO  main  [SamplingIntegrator] Starting render job (400x400, 8 samples, 8 threads)</span>"
      ]
     },
     "metadata": {},
     "output_type": "display_data"
    },
    {
     "data": {
      "application/vnd.jupyter.widget-view+json": {
       "model_id": "2f5b8204d4364396aa7d19088fd10220",
       "version_major": 2,
       "version_minor": 0
      },
      "text/plain": [
       "VBox(children=(HTML(value=''), FloatProgress(value=0.0, bar_style='info', layout=Layout(width='100%'), max=1.0…"
      ]
     },
     "metadata": {},
     "output_type": "display_data"
    },
    {
     "data": {
      "text/html": [
       "<span style=\"font-family: monospace; color: #000\">2020-12-16 13:00:16 INFO  main  [SamplingIntegrator] Rendering finished. (took 645ms)</span>"
      ]
     },
     "metadata": {},
     "output_type": "display_data"
    },
    {
     "data": {
      "text/html": [
       "<span style=\"font-family: monospace; color: #000\">2020-12-16 13:00:17 INFO  main  [ShapeKDTree] Building a SAH kd-tree (3 primitives) ..</span>"
      ]
     },
     "metadata": {},
     "output_type": "display_data"
    },
    {
     "data": {
      "text/html": [
       "<span style=\"font-family: monospace; color: #000\">2020-12-16 13:00:17 INFO  main  [ShapeKDTree] Finished. (20 B of storage, took 0ms)</span>"
      ]
     },
     "metadata": {},
     "output_type": "display_data"
    },
    {
     "data": {
      "text/html": [
       "<span style=\"font-family: monospace; color: #000\">2020-12-16 13:00:17 INFO  main  [SamplingIntegrator] Starting render job (400x400, 8 samples, 8 threads)</span>"
      ]
     },
     "metadata": {},
     "output_type": "display_data"
    },
    {
     "data": {
      "application/vnd.jupyter.widget-view+json": {
       "model_id": "5075f115bf4f4e90963c9825436c70d1",
       "version_major": 2,
       "version_minor": 0
      },
      "text/plain": [
       "VBox(children=(HTML(value=''), FloatProgress(value=0.0, bar_style='info', layout=Layout(width='100%'), max=1.0…"
      ]
     },
     "metadata": {},
     "output_type": "display_data"
    },
    {
     "data": {
      "text/html": [
       "<span style=\"font-family: monospace; color: #000\">2020-12-16 13:00:18 INFO  main  [SamplingIntegrator] Rendering finished. (took 649ms)</span>"
      ]
     },
     "metadata": {},
     "output_type": "display_data"
    },
    {
     "data": {
      "text/html": [
       "<span style=\"font-family: monospace; color: #000\">2020-12-16 13:00:18 INFO  main  [ShapeKDTree] Building a SAH kd-tree (3 primitives) ..</span>"
      ]
     },
     "metadata": {},
     "output_type": "display_data"
    },
    {
     "data": {
      "text/html": [
       "<span style=\"font-family: monospace; color: #000\">2020-12-16 13:00:18 INFO  main  [ShapeKDTree] Finished. (20 B of storage, took 1ms)</span>"
      ]
     },
     "metadata": {},
     "output_type": "display_data"
    },
    {
     "data": {
      "text/html": [
       "<span style=\"font-family: monospace; color: #000\">2020-12-16 13:00:18 INFO  main  [SamplingIntegrator] Starting render job (400x400, 8 samples, 8 threads)</span>"
      ]
     },
     "metadata": {},
     "output_type": "display_data"
    },
    {
     "data": {
      "application/vnd.jupyter.widget-view+json": {
       "model_id": "53c8de5f4c594ad9a71d0c9d66eda7a1",
       "version_major": 2,
       "version_minor": 0
      },
      "text/plain": [
       "VBox(children=(HTML(value=''), FloatProgress(value=0.0, bar_style='info', layout=Layout(width='100%'), max=1.0…"
      ]
     },
     "metadata": {},
     "output_type": "display_data"
    },
    {
     "data": {
      "text/html": [
       "<span style=\"font-family: monospace; color: #000\">2020-12-16 13:00:19 INFO  main  [SamplingIntegrator] Rendering finished. (took 656ms)</span>"
      ]
     },
     "metadata": {},
     "output_type": "display_data"
    },
    {
     "data": {
      "text/html": [
       "<span style=\"font-family: monospace; color: #000\">2020-12-16 13:00:19 INFO  main  [ShapeKDTree] Building a SAH kd-tree (3 primitives) ..</span>"
      ]
     },
     "metadata": {},
     "output_type": "display_data"
    },
    {
     "data": {
      "text/html": [
       "<span style=\"font-family: monospace; color: #000\">2020-12-16 13:00:19 INFO  main  [ShapeKDTree] Finished. (20 B of storage, took 0ms)</span>"
      ]
     },
     "metadata": {},
     "output_type": "display_data"
    },
    {
     "data": {
      "text/html": [
       "<span style=\"font-family: monospace; color: #000\">2020-12-16 13:00:20 INFO  main  [SamplingIntegrator] Starting render job (400x400, 8 samples, 8 threads)</span>"
      ]
     },
     "metadata": {},
     "output_type": "display_data"
    },
    {
     "data": {
      "application/vnd.jupyter.widget-view+json": {
       "model_id": "0b75d87b9b1b47bbbea5e0ae00f00305",
       "version_major": 2,
       "version_minor": 0
      },
      "text/plain": [
       "VBox(children=(HTML(value=''), FloatProgress(value=0.0, bar_style='info', layout=Layout(width='100%'), max=1.0…"
      ]
     },
     "metadata": {},
     "output_type": "display_data"
    },
    {
     "data": {
      "text/html": [
       "<span style=\"font-family: monospace; color: #000\">2020-12-16 13:00:20 INFO  main  [SamplingIntegrator] Rendering finished. (took 645ms)</span>"
      ]
     },
     "metadata": {},
     "output_type": "display_data"
    },
    {
     "data": {
      "text/html": [
       "<span style=\"font-family: monospace; color: #000\">2020-12-16 13:00:21 INFO  main  [ShapeKDTree] Building a SAH kd-tree (3 primitives) ..</span>"
      ]
     },
     "metadata": {},
     "output_type": "display_data"
    },
    {
     "data": {
      "text/html": [
       "<span style=\"font-family: monospace; color: #000\">2020-12-16 13:00:21 INFO  main  [ShapeKDTree] Finished. (20 B of storage, took 0ms)</span>"
      ]
     },
     "metadata": {},
     "output_type": "display_data"
    },
    {
     "data": {
      "text/html": [
       "<span style=\"font-family: monospace; color: #000\">2020-12-16 13:00:21 INFO  main  [SamplingIntegrator] Starting render job (400x400, 8 samples, 8 threads)</span>"
      ]
     },
     "metadata": {},
     "output_type": "display_data"
    },
    {
     "data": {
      "application/vnd.jupyter.widget-view+json": {
       "model_id": "58a2ebd33ef343dd913c78c02a177567",
       "version_major": 2,
       "version_minor": 0
      },
      "text/plain": [
       "VBox(children=(HTML(value=''), FloatProgress(value=0.0, bar_style='info', layout=Layout(width='100%'), max=1.0…"
      ]
     },
     "metadata": {},
     "output_type": "display_data"
    },
    {
     "data": {
      "text/html": [
       "<span style=\"font-family: monospace; color: #000\">2020-12-16 13:00:22 INFO  main  [SamplingIntegrator] Rendering finished. (took 655ms)</span>"
      ]
     },
     "metadata": {},
     "output_type": "display_data"
    },
    {
     "data": {
      "text/html": [
       "<span style=\"font-family: monospace; color: #000\">2020-12-16 13:00:22 INFO  main  [ShapeKDTree] Building a SAH kd-tree (3 primitives) ..</span>"
      ]
     },
     "metadata": {},
     "output_type": "display_data"
    },
    {
     "data": {
      "text/html": [
       "<span style=\"font-family: monospace; color: #000\">2020-12-16 13:00:22 INFO  main  [ShapeKDTree] Finished. (20 B of storage, took 0ms)</span>"
      ]
     },
     "metadata": {},
     "output_type": "display_data"
    },
    {
     "data": {
      "text/html": [
       "<span style=\"font-family: monospace; color: #000\">2020-12-16 13:00:22 INFO  main  [SamplingIntegrator] Starting render job (400x400, 8 samples, 8 threads)</span>"
      ]
     },
     "metadata": {},
     "output_type": "display_data"
    },
    {
     "data": {
      "application/vnd.jupyter.widget-view+json": {
       "model_id": "b447069168234114a109d4aefb77e24b",
       "version_major": 2,
       "version_minor": 0
      },
      "text/plain": [
       "VBox(children=(HTML(value=''), FloatProgress(value=0.0, bar_style='info', layout=Layout(width='100%'), max=1.0…"
      ]
     },
     "metadata": {},
     "output_type": "display_data"
    },
    {
     "data": {
      "text/html": [
       "<span style=\"font-family: monospace; color: #000\">2020-12-16 13:00:23 INFO  main  [SamplingIntegrator] Rendering finished. (took 739ms)</span>"
      ]
     },
     "metadata": {},
     "output_type": "display_data"
    },
    {
     "data": {
      "text/html": [
       "<span style=\"font-family: monospace; color: #000\">2020-12-16 13:00:24 INFO  main  [ShapeKDTree] Building a SAH kd-tree (3 primitives) ..</span>"
      ]
     },
     "metadata": {},
     "output_type": "display_data"
    },
    {
     "data": {
      "text/html": [
       "<span style=\"font-family: monospace; color: #000\">2020-12-16 13:00:24 INFO  main  [ShapeKDTree] Finished. (20 B of storage, took 1ms)</span>"
      ]
     },
     "metadata": {},
     "output_type": "display_data"
    },
    {
     "data": {
      "text/html": [
       "<span style=\"font-family: monospace; color: #000\">2020-12-16 13:00:24 INFO  main  [SamplingIntegrator] Starting render job (400x400, 8 samples, 8 threads)</span>"
      ]
     },
     "metadata": {},
     "output_type": "display_data"
    },
    {
     "data": {
      "application/vnd.jupyter.widget-view+json": {
       "model_id": "a9582df8c9af461785df2bbd55288909",
       "version_major": 2,
       "version_minor": 0
      },
      "text/plain": [
       "VBox(children=(HTML(value=''), FloatProgress(value=0.0, bar_style='info', layout=Layout(width='100%'), max=1.0…"
      ]
     },
     "metadata": {},
     "output_type": "display_data"
    },
    {
     "data": {
      "text/html": [
       "<span style=\"font-family: monospace; color: #000\">2020-12-16 13:00:25 INFO  main  [SamplingIntegrator] Rendering finished. (took 714ms)</span>"
      ]
     },
     "metadata": {},
     "output_type": "display_data"
    },
    {
     "data": {
      "text/html": [
       "<span style=\"font-family: monospace; color: #000\">2020-12-16 13:00:25 INFO  main  [ShapeKDTree] Building a SAH kd-tree (3 primitives) ..</span>"
      ]
     },
     "metadata": {},
     "output_type": "display_data"
    },
    {
     "data": {
      "text/html": [
       "<span style=\"font-family: monospace; color: #000\">2020-12-16 13:00:25 INFO  main  [ShapeKDTree] Finished. (20 B of storage, took 1ms)</span>"
      ]
     },
     "metadata": {},
     "output_type": "display_data"
    },
    {
     "data": {
      "text/html": [
       "<span style=\"font-family: monospace; color: #000\">2020-12-16 13:00:25 INFO  main  [SamplingIntegrator] Starting render job (400x400, 8 samples, 8 threads)</span>"
      ]
     },
     "metadata": {},
     "output_type": "display_data"
    },
    {
     "data": {
      "application/vnd.jupyter.widget-view+json": {
       "model_id": "2d6065f3121d417f80e5ebb7d5b114d5",
       "version_major": 2,
       "version_minor": 0
      },
      "text/plain": [
       "VBox(children=(HTML(value=''), FloatProgress(value=0.0, bar_style='info', layout=Layout(width='100%'), max=1.0…"
      ]
     },
     "metadata": {},
     "output_type": "display_data"
    },
    {
     "data": {
      "text/html": [
       "<span style=\"font-family: monospace; color: #000\">2020-12-16 13:00:26 INFO  main  [SamplingIntegrator] Rendering finished. (took 660ms)</span>"
      ]
     },
     "metadata": {},
     "output_type": "display_data"
    },
    {
     "data": {
      "text/html": [
       "<span style=\"font-family: monospace; color: #000\">2020-12-16 13:00:26 INFO  main  [ShapeKDTree] Building a SAH kd-tree (3 primitives) ..</span>"
      ]
     },
     "metadata": {},
     "output_type": "display_data"
    },
    {
     "data": {
      "text/html": [
       "<span style=\"font-family: monospace; color: #000\">2020-12-16 13:00:26 INFO  main  [ShapeKDTree] Finished. (20 B of storage, took 0ms)</span>"
      ]
     },
     "metadata": {},
     "output_type": "display_data"
    },
    {
     "data": {
      "text/html": [
       "<span style=\"font-family: monospace; color: #000\">2020-12-16 13:00:27 INFO  main  [SamplingIntegrator] Starting render job (400x400, 8 samples, 8 threads)</span>"
      ]
     },
     "metadata": {},
     "output_type": "display_data"
    },
    {
     "data": {
      "application/vnd.jupyter.widget-view+json": {
       "model_id": "716d89090d674efd899959e806329fdc",
       "version_major": 2,
       "version_minor": 0
      },
      "text/plain": [
       "VBox(children=(HTML(value=''), FloatProgress(value=0.0, bar_style='info', layout=Layout(width='100%'), max=1.0…"
      ]
     },
     "metadata": {},
     "output_type": "display_data"
    },
    {
     "data": {
      "text/html": [
       "<span style=\"font-family: monospace; color: #000\">2020-12-16 13:00:27 INFO  main  [SamplingIntegrator] Rendering finished. (took 681ms)</span>"
      ]
     },
     "metadata": {},
     "output_type": "display_data"
    },
    {
     "data": {
      "text/html": [
       "<span style=\"font-family: monospace; color: #000\">2020-12-16 13:00:28 INFO  main  [ShapeKDTree] Building a SAH kd-tree (3 primitives) ..</span>"
      ]
     },
     "metadata": {},
     "output_type": "display_data"
    },
    {
     "data": {
      "text/html": [
       "<span style=\"font-family: monospace; color: #000\">2020-12-16 13:00:28 INFO  main  [ShapeKDTree] Finished. (20 B of storage, took 0ms)</span>"
      ]
     },
     "metadata": {},
     "output_type": "display_data"
    },
    {
     "data": {
      "text/html": [
       "<span style=\"font-family: monospace; color: #000\">2020-12-16 13:00:28 INFO  main  [SamplingIntegrator] Starting render job (400x400, 8 samples, 8 threads)</span>"
      ]
     },
     "metadata": {},
     "output_type": "display_data"
    },
    {
     "data": {
      "application/vnd.jupyter.widget-view+json": {
       "model_id": "19011c5ca0e149c694be2d551bd70e7f",
       "version_major": 2,
       "version_minor": 0
      },
      "text/plain": [
       "VBox(children=(HTML(value=''), FloatProgress(value=0.0, bar_style='info', layout=Layout(width='100%'), max=1.0…"
      ]
     },
     "metadata": {},
     "output_type": "display_data"
    },
    {
     "data": {
      "text/html": [
       "<span style=\"font-family: monospace; color: #000\">2020-12-16 13:00:29 INFO  main  [SamplingIntegrator] Rendering finished. (took 662ms)</span>"
      ]
     },
     "metadata": {},
     "output_type": "display_data"
    },
    {
     "data": {
      "text/html": [
       "<span style=\"font-family: monospace; color: #000\">2020-12-16 13:00:29 INFO  main  [ShapeKDTree] Building a SAH kd-tree (3 primitives) ..</span>"
      ]
     },
     "metadata": {},
     "output_type": "display_data"
    },
    {
     "data": {
      "text/html": [
       "<span style=\"font-family: monospace; color: #000\">2020-12-16 13:00:29 INFO  main  [ShapeKDTree] Finished. (20 B of storage, took 0ms)</span>"
      ]
     },
     "metadata": {},
     "output_type": "display_data"
    },
    {
     "data": {
      "text/html": [
       "<span style=\"font-family: monospace; color: #000\">2020-12-16 13:00:30 INFO  main  [SamplingIntegrator] Starting render job (400x400, 8 samples, 8 threads)</span>"
      ]
     },
     "metadata": {},
     "output_type": "display_data"
    },
    {
     "data": {
      "application/vnd.jupyter.widget-view+json": {
       "model_id": "d1d5397b9b3f45d98b543d8edbc59578",
       "version_major": 2,
       "version_minor": 0
      },
      "text/plain": [
       "VBox(children=(HTML(value=''), FloatProgress(value=0.0, bar_style='info', layout=Layout(width='100%'), max=1.0…"
      ]
     },
     "metadata": {},
     "output_type": "display_data"
    },
    {
     "data": {
      "text/html": [
       "<span style=\"font-family: monospace; color: #000\">2020-12-16 13:00:30 INFO  main  [SamplingIntegrator] Rendering finished. (took 668ms)</span>"
      ]
     },
     "metadata": {},
     "output_type": "display_data"
    },
    {
     "data": {
      "text/html": [
       "<span style=\"font-family: monospace; color: #000\">2020-12-16 13:00:30 INFO  main  [ShapeKDTree] Building a SAH kd-tree (3 primitives) ..</span>"
      ]
     },
     "metadata": {},
     "output_type": "display_data"
    },
    {
     "data": {
      "text/html": [
       "<span style=\"font-family: monospace; color: #000\">2020-12-16 13:00:30 INFO  main  [ShapeKDTree] Finished. (20 B of storage, took 0ms)</span>"
      ]
     },
     "metadata": {},
     "output_type": "display_data"
    },
    {
     "data": {
      "text/html": [
       "<span style=\"font-family: monospace; color: #000\">2020-12-16 13:00:31 INFO  main  [SamplingIntegrator] Starting render job (400x400, 8 samples, 8 threads)</span>"
      ]
     },
     "metadata": {},
     "output_type": "display_data"
    },
    {
     "data": {
      "application/vnd.jupyter.widget-view+json": {
       "model_id": "da156ba64a7b4f7fa87a7e25d67c7f27",
       "version_major": 2,
       "version_minor": 0
      },
      "text/plain": [
       "VBox(children=(HTML(value=''), FloatProgress(value=0.0, bar_style='info', layout=Layout(width='100%'), max=1.0…"
      ]
     },
     "metadata": {},
     "output_type": "display_data"
    },
    {
     "data": {
      "text/html": [
       "<span style=\"font-family: monospace; color: #000\">2020-12-16 13:00:32 INFO  main  [SamplingIntegrator] Rendering finished. (took 705ms)</span>"
      ]
     },
     "metadata": {},
     "output_type": "display_data"
    },
    {
     "data": {
      "text/html": [
       "<span style=\"font-family: monospace; color: #000\">2020-12-16 13:00:32 INFO  main  [ShapeKDTree] Building a SAH kd-tree (3 primitives) ..</span>"
      ]
     },
     "metadata": {},
     "output_type": "display_data"
    },
    {
     "data": {
      "text/html": [
       "<span style=\"font-family: monospace; color: #000\">2020-12-16 13:00:32 INFO  main  [ShapeKDTree] Finished. (20 B of storage, took 1ms)</span>"
      ]
     },
     "metadata": {},
     "output_type": "display_data"
    },
    {
     "data": {
      "text/html": [
       "<span style=\"font-family: monospace; color: #000\">2020-12-16 13:00:32 INFO  main  [SamplingIntegrator] Starting render job (400x400, 8 samples, 8 threads)</span>"
      ]
     },
     "metadata": {},
     "output_type": "display_data"
    },
    {
     "data": {
      "application/vnd.jupyter.widget-view+json": {
       "model_id": "cda15cb73bba489e8c47bc9906d4987c",
       "version_major": 2,
       "version_minor": 0
      },
      "text/plain": [
       "VBox(children=(HTML(value=''), FloatProgress(value=0.0, bar_style='info', layout=Layout(width='100%'), max=1.0…"
      ]
     },
     "metadata": {},
     "output_type": "display_data"
    },
    {
     "data": {
      "text/html": [
       "<span style=\"font-family: monospace; color: #000\">2020-12-16 13:00:33 INFO  main  [SamplingIntegrator] Rendering finished. (took 672ms)</span>"
      ]
     },
     "metadata": {},
     "output_type": "display_data"
    },
    {
     "data": {
      "text/html": [
       "<span style=\"font-family: monospace; color: #000\">2020-12-16 13:00:33 INFO  main  [ShapeKDTree] Building a SAH kd-tree (3 primitives) ..</span>"
      ]
     },
     "metadata": {},
     "output_type": "display_data"
    },
    {
     "data": {
      "text/html": [
       "<span style=\"font-family: monospace; color: #000\">2020-12-16 13:00:33 INFO  main  [ShapeKDTree] Finished. (20 B of storage, took 1ms)</span>"
      ]
     },
     "metadata": {},
     "output_type": "display_data"
    },
    {
     "data": {
      "text/html": [
       "<span style=\"font-family: monospace; color: #000\">2020-12-16 13:00:34 INFO  main  [SamplingIntegrator] Starting render job (400x400, 8 samples, 8 threads)</span>"
      ]
     },
     "metadata": {},
     "output_type": "display_data"
    },
    {
     "data": {
      "application/vnd.jupyter.widget-view+json": {
       "model_id": "10f986c3a1994d238f0d46e715039147",
       "version_major": 2,
       "version_minor": 0
      },
      "text/plain": [
       "VBox(children=(HTML(value=''), FloatProgress(value=0.0, bar_style='info', layout=Layout(width='100%'), max=1.0…"
      ]
     },
     "metadata": {},
     "output_type": "display_data"
    },
    {
     "data": {
      "text/html": [
       "<span style=\"font-family: monospace; color: #000\">2020-12-16 13:00:34 INFO  main  [SamplingIntegrator] Rendering finished. (took 670ms)</span>"
      ]
     },
     "metadata": {},
     "output_type": "display_data"
    },
    {
     "data": {
      "text/html": [
       "<span style=\"font-family: monospace; color: #000\">2020-12-16 13:00:35 INFO  main  [ShapeKDTree] Building a SAH kd-tree (3 primitives) ..</span>"
      ]
     },
     "metadata": {},
     "output_type": "display_data"
    },
    {
     "data": {
      "text/html": [
       "<span style=\"font-family: monospace; color: #000\">2020-12-16 13:00:35 INFO  main  [ShapeKDTree] Finished. (20 B of storage, took 0ms)</span>"
      ]
     },
     "metadata": {},
     "output_type": "display_data"
    },
    {
     "data": {
      "text/html": [
       "<span style=\"font-family: monospace; color: #000\">2020-12-16 13:00:35 INFO  main  [SamplingIntegrator] Starting render job (400x400, 8 samples, 8 threads)</span>"
      ]
     },
     "metadata": {},
     "output_type": "display_data"
    },
    {
     "data": {
      "application/vnd.jupyter.widget-view+json": {
       "model_id": "e04a790cecd64ccb83a04e3cb2449b49",
       "version_major": 2,
       "version_minor": 0
      },
      "text/plain": [
       "VBox(children=(HTML(value=''), FloatProgress(value=0.0, bar_style='info', layout=Layout(width='100%'), max=1.0…"
      ]
     },
     "metadata": {},
     "output_type": "display_data"
    },
    {
     "data": {
      "text/html": [
       "<span style=\"font-family: monospace; color: #000\">2020-12-16 13:00:36 INFO  main  [SamplingIntegrator] Rendering finished. (took 670ms)</span>"
      ]
     },
     "metadata": {},
     "output_type": "display_data"
    },
    {
     "data": {
      "text/html": [
       "<span style=\"font-family: monospace; color: #000\">2020-12-16 13:00:36 INFO  main  [ShapeKDTree] Building a SAH kd-tree (3 primitives) ..</span>"
      ]
     },
     "metadata": {},
     "output_type": "display_data"
    },
    {
     "data": {
      "text/html": [
       "<span style=\"font-family: monospace; color: #000\">2020-12-16 13:00:36 INFO  main  [ShapeKDTree] Finished. (20 B of storage, took 1ms)</span>"
      ]
     },
     "metadata": {},
     "output_type": "display_data"
    },
    {
     "data": {
      "text/html": [
       "<span style=\"font-family: monospace; color: #000\">2020-12-16 13:00:36 INFO  main  [SamplingIntegrator] Starting render job (400x400, 8 samples, 8 threads)</span>"
      ]
     },
     "metadata": {},
     "output_type": "display_data"
    },
    {
     "data": {
      "application/vnd.jupyter.widget-view+json": {
       "model_id": "d029574bf80c460d8aac1e6bffdb9ea9",
       "version_major": 2,
       "version_minor": 0
      },
      "text/plain": [
       "VBox(children=(HTML(value=''), FloatProgress(value=0.0, bar_style='info', layout=Layout(width='100%'), max=1.0…"
      ]
     },
     "metadata": {},
     "output_type": "display_data"
    },
    {
     "data": {
      "text/html": [
       "<span style=\"font-family: monospace; color: #000\">2020-12-16 13:00:37 INFO  main  [SamplingIntegrator] Rendering finished. (took 691ms)</span>"
      ]
     },
     "metadata": {},
     "output_type": "display_data"
    },
    {
     "data": {
      "text/html": [
       "<span style=\"font-family: monospace; color: #000\">2020-12-16 13:00:37 INFO  main  [ShapeKDTree] Building a SAH kd-tree (3 primitives) ..</span>"
      ]
     },
     "metadata": {},
     "output_type": "display_data"
    },
    {
     "data": {
      "text/html": [
       "<span style=\"font-family: monospace; color: #000\">2020-12-16 13:00:37 INFO  main  [ShapeKDTree] Finished. (20 B of storage, took 0ms)</span>"
      ]
     },
     "metadata": {},
     "output_type": "display_data"
    },
    {
     "data": {
      "text/html": [
       "<span style=\"font-family: monospace; color: #000\">2020-12-16 13:00:38 INFO  main  [SamplingIntegrator] Starting render job (400x400, 8 samples, 8 threads)</span>"
      ]
     },
     "metadata": {},
     "output_type": "display_data"
    },
    {
     "data": {
      "application/vnd.jupyter.widget-view+json": {
       "model_id": "7fea44ed870a45878f556c7cb9fc1b07",
       "version_major": 2,
       "version_minor": 0
      },
      "text/plain": [
       "VBox(children=(HTML(value=''), FloatProgress(value=0.0, bar_style='info', layout=Layout(width='100%'), max=1.0…"
      ]
     },
     "metadata": {},
     "output_type": "display_data"
    },
    {
     "data": {
      "text/html": [
       "<span style=\"font-family: monospace; color: #000\">2020-12-16 13:00:39 INFO  main  [SamplingIntegrator] Rendering finished. (took 713ms)</span>"
      ]
     },
     "metadata": {},
     "output_type": "display_data"
    },
    {
     "data": {
      "text/html": [
       "<span style=\"font-family: monospace; color: #000\">2020-12-16 13:00:39 INFO  main  [ShapeKDTree] Building a SAH kd-tree (3 primitives) ..</span>"
      ]
     },
     "metadata": {},
     "output_type": "display_data"
    },
    {
     "data": {
      "text/html": [
       "<span style=\"font-family: monospace; color: #000\">2020-12-16 13:00:39 INFO  main  [ShapeKDTree] Finished. (20 B of storage, took 0ms)</span>"
      ]
     },
     "metadata": {},
     "output_type": "display_data"
    },
    {
     "data": {
      "text/html": [
       "<span style=\"font-family: monospace; color: #000\">2020-12-16 13:00:39 INFO  main  [SamplingIntegrator] Starting render job (400x400, 8 samples, 8 threads)</span>"
      ]
     },
     "metadata": {},
     "output_type": "display_data"
    },
    {
     "data": {
      "application/vnd.jupyter.widget-view+json": {
       "model_id": "4a86071d15c8470fb025e92da7e312f8",
       "version_major": 2,
       "version_minor": 0
      },
      "text/plain": [
       "VBox(children=(HTML(value=''), FloatProgress(value=0.0, bar_style='info', layout=Layout(width='100%'), max=1.0…"
      ]
     },
     "metadata": {},
     "output_type": "display_data"
    },
    {
     "data": {
      "text/html": [
       "<span style=\"font-family: monospace; color: #000\">2020-12-16 13:00:40 INFO  main  [SamplingIntegrator] Rendering finished. (took 695ms)</span>"
      ]
     },
     "metadata": {},
     "output_type": "display_data"
    },
    {
     "data": {
      "text/html": [
       "<span style=\"font-family: monospace; color: #000\">2020-12-16 13:00:40 INFO  main  [ShapeKDTree] Building a SAH kd-tree (3 primitives) ..</span>"
      ]
     },
     "metadata": {},
     "output_type": "display_data"
    },
    {
     "data": {
      "text/html": [
       "<span style=\"font-family: monospace; color: #000\">2020-12-16 13:00:40 INFO  main  [ShapeKDTree] Finished. (20 B of storage, took 0ms)</span>"
      ]
     },
     "metadata": {},
     "output_type": "display_data"
    },
    {
     "data": {
      "text/html": [
       "<span style=\"font-family: monospace; color: #000\">2020-12-16 13:00:41 INFO  main  [SamplingIntegrator] Starting render job (400x400, 8 samples, 8 threads)</span>"
      ]
     },
     "metadata": {},
     "output_type": "display_data"
    },
    {
     "data": {
      "application/vnd.jupyter.widget-view+json": {
       "model_id": "cf5d2119dcbc469daaed9ab76e73c903",
       "version_major": 2,
       "version_minor": 0
      },
      "text/plain": [
       "VBox(children=(HTML(value=''), FloatProgress(value=0.0, bar_style='info', layout=Layout(width='100%'), max=1.0…"
      ]
     },
     "metadata": {},
     "output_type": "display_data"
    },
    {
     "data": {
      "text/html": [
       "<span style=\"font-family: monospace; color: #000\">2020-12-16 13:00:41 INFO  main  [SamplingIntegrator] Rendering finished. (took 693ms)</span>"
      ]
     },
     "metadata": {},
     "output_type": "display_data"
    },
    {
     "data": {
      "text/html": [
       "<span style=\"font-family: monospace; color: #000\">2020-12-16 13:00:42 INFO  main  [ShapeKDTree] Building a SAH kd-tree (3 primitives) ..</span>"
      ]
     },
     "metadata": {},
     "output_type": "display_data"
    },
    {
     "data": {
      "text/html": [
       "<span style=\"font-family: monospace; color: #000\">2020-12-16 13:00:42 INFO  main  [ShapeKDTree] Finished. (20 B of storage, took 0ms)</span>"
      ]
     },
     "metadata": {},
     "output_type": "display_data"
    },
    {
     "data": {
      "text/html": [
       "<span style=\"font-family: monospace; color: #000\">2020-12-16 13:00:42 INFO  main  [SamplingIntegrator] Starting render job (400x400, 8 samples, 8 threads)</span>"
      ]
     },
     "metadata": {},
     "output_type": "display_data"
    },
    {
     "data": {
      "application/vnd.jupyter.widget-view+json": {
       "model_id": "38befc4bd5314e66b80c338175bc88f1",
       "version_major": 2,
       "version_minor": 0
      },
      "text/plain": [
       "VBox(children=(HTML(value=''), FloatProgress(value=0.0, bar_style='info', layout=Layout(width='100%'), max=1.0…"
      ]
     },
     "metadata": {},
     "output_type": "display_data"
    },
    {
     "data": {
      "text/html": [
       "<span style=\"font-family: monospace; color: #000\">2020-12-16 13:00:43 INFO  main  [SamplingIntegrator] Rendering finished. (took 664ms)</span>"
      ]
     },
     "metadata": {},
     "output_type": "display_data"
    },
    {
     "data": {
      "text/html": [
       "<span style=\"font-family: monospace; color: #000\">2020-12-16 13:00:43 INFO  main  [ShapeKDTree] Building a SAH kd-tree (3 primitives) ..</span>"
      ]
     },
     "metadata": {},
     "output_type": "display_data"
    },
    {
     "data": {
      "text/html": [
       "<span style=\"font-family: monospace; color: #000\">2020-12-16 13:00:43 INFO  main  [ShapeKDTree] Finished. (20 B of storage, took 0ms)</span>"
      ]
     },
     "metadata": {},
     "output_type": "display_data"
    },
    {
     "data": {
      "text/html": [
       "<span style=\"font-family: monospace; color: #000\">2020-12-16 13:00:43 INFO  main  [SamplingIntegrator] Starting render job (400x400, 8 samples, 8 threads)</span>"
      ]
     },
     "metadata": {},
     "output_type": "display_data"
    },
    {
     "data": {
      "application/vnd.jupyter.widget-view+json": {
       "model_id": "e79064a5b8f546ab908ef52148c817c8",
       "version_major": 2,
       "version_minor": 0
      },
      "text/plain": [
       "VBox(children=(HTML(value=''), FloatProgress(value=0.0, bar_style='info', layout=Layout(width='100%'), max=1.0…"
      ]
     },
     "metadata": {},
     "output_type": "display_data"
    },
    {
     "data": {
      "text/html": [
       "<span style=\"font-family: monospace; color: #000\">2020-12-16 13:00:44 INFO  main  [SamplingIntegrator] Rendering finished. (took 661ms)</span>"
      ]
     },
     "metadata": {},
     "output_type": "display_data"
    },
    {
     "data": {
      "text/html": [
       "<span style=\"font-family: monospace; color: #000\">2020-12-16 13:00:44 INFO  main  [ShapeKDTree] Building a SAH kd-tree (3 primitives) ..</span>"
      ]
     },
     "metadata": {},
     "output_type": "display_data"
    },
    {
     "data": {
      "text/html": [
       "<span style=\"font-family: monospace; color: #000\">2020-12-16 13:00:44 INFO  main  [ShapeKDTree] Finished. (20 B of storage, took 0ms)</span>"
      ]
     },
     "metadata": {},
     "output_type": "display_data"
    },
    {
     "data": {
      "text/html": [
       "<span style=\"font-family: monospace; color: #000\">2020-12-16 13:00:45 INFO  main  [SamplingIntegrator] Starting render job (400x400, 8 samples, 8 threads)</span>"
      ]
     },
     "metadata": {},
     "output_type": "display_data"
    },
    {
     "data": {
      "application/vnd.jupyter.widget-view+json": {
       "model_id": "bb63d462451347be96e09fa915687bb2",
       "version_major": 2,
       "version_minor": 0
      },
      "text/plain": [
       "VBox(children=(HTML(value=''), FloatProgress(value=0.0, bar_style='info', layout=Layout(width='100%'), max=1.0…"
      ]
     },
     "metadata": {},
     "output_type": "display_data"
    },
    {
     "data": {
      "text/html": [
       "<span style=\"font-family: monospace; color: #000\">2020-12-16 13:00:45 INFO  main  [SamplingIntegrator] Rendering finished. (took 666ms)</span>"
      ]
     },
     "metadata": {},
     "output_type": "display_data"
    },
    {
     "data": {
      "text/html": [
       "<span style=\"font-family: monospace; color: #000\">2020-12-16 13:00:46 INFO  main  [ShapeKDTree] Building a SAH kd-tree (3 primitives) ..</span>"
      ]
     },
     "metadata": {},
     "output_type": "display_data"
    },
    {
     "data": {
      "text/html": [
       "<span style=\"font-family: monospace; color: #000\">2020-12-16 13:00:46 INFO  main  [ShapeKDTree] Finished. (20 B of storage, took 1ms)</span>"
      ]
     },
     "metadata": {},
     "output_type": "display_data"
    },
    {
     "data": {
      "text/html": [
       "<span style=\"font-family: monospace; color: #000\">2020-12-16 13:00:46 INFO  main  [SamplingIntegrator] Starting render job (400x400, 8 samples, 8 threads)</span>"
      ]
     },
     "metadata": {},
     "output_type": "display_data"
    },
    {
     "data": {
      "application/vnd.jupyter.widget-view+json": {
       "model_id": "c19d24fab68f42af81da969d17aba073",
       "version_major": 2,
       "version_minor": 0
      },
      "text/plain": [
       "VBox(children=(HTML(value=''), FloatProgress(value=0.0, bar_style='info', layout=Layout(width='100%'), max=1.0…"
      ]
     },
     "metadata": {},
     "output_type": "display_data"
    },
    {
     "data": {
      "text/html": [
       "<span style=\"font-family: monospace; color: #000\">2020-12-16 13:00:47 INFO  main  [SamplingIntegrator] Rendering finished. (took 668ms)</span>"
      ]
     },
     "metadata": {},
     "output_type": "display_data"
    },
    {
     "data": {
      "text/html": [
       "<span style=\"font-family: monospace; color: #000\">2020-12-16 13:00:47 INFO  main  [ShapeKDTree] Building a SAH kd-tree (3 primitives) ..</span>"
      ]
     },
     "metadata": {},
     "output_type": "display_data"
    },
    {
     "data": {
      "text/html": [
       "<span style=\"font-family: monospace; color: #000\">2020-12-16 13:00:47 INFO  main  [ShapeKDTree] Finished. (20 B of storage, took 1ms)</span>"
      ]
     },
     "metadata": {},
     "output_type": "display_data"
    },
    {
     "data": {
      "text/html": [
       "<span style=\"font-family: monospace; color: #000\">2020-12-16 13:00:47 INFO  main  [SamplingIntegrator] Starting render job (400x400, 8 samples, 8 threads)</span>"
      ]
     },
     "metadata": {},
     "output_type": "display_data"
    },
    {
     "data": {
      "application/vnd.jupyter.widget-view+json": {
       "model_id": "df98e180e3a340169b35e9527da99e11",
       "version_major": 2,
       "version_minor": 0
      },
      "text/plain": [
       "VBox(children=(HTML(value=''), FloatProgress(value=0.0, bar_style='info', layout=Layout(width='100%'), max=1.0…"
      ]
     },
     "metadata": {},
     "output_type": "display_data"
    },
    {
     "data": {
      "text/html": [
       "<span style=\"font-family: monospace; color: #000\">2020-12-16 13:00:48 INFO  main  [SamplingIntegrator] Rendering finished. (took 698ms)</span>"
      ]
     },
     "metadata": {},
     "output_type": "display_data"
    },
    {
     "data": {
      "text/html": [
       "<span style=\"font-family: monospace; color: #000\">2020-12-16 13:00:48 INFO  main  [ShapeKDTree] Building a SAH kd-tree (3 primitives) ..</span>"
      ]
     },
     "metadata": {},
     "output_type": "display_data"
    },
    {
     "data": {
      "text/html": [
       "<span style=\"font-family: monospace; color: #000\">2020-12-16 13:00:48 INFO  main  [ShapeKDTree] Finished. (20 B of storage, took 0ms)</span>"
      ]
     },
     "metadata": {},
     "output_type": "display_data"
    },
    {
     "data": {
      "text/html": [
       "<span style=\"font-family: monospace; color: #000\">2020-12-16 13:00:49 INFO  main  [SamplingIntegrator] Starting render job (400x400, 8 samples, 8 threads)</span>"
      ]
     },
     "metadata": {},
     "output_type": "display_data"
    },
    {
     "data": {
      "application/vnd.jupyter.widget-view+json": {
       "model_id": "12bec4bec5d844bbbe26614f206d3ea6",
       "version_major": 2,
       "version_minor": 0
      },
      "text/plain": [
       "VBox(children=(HTML(value=''), FloatProgress(value=0.0, bar_style='info', layout=Layout(width='100%'), max=1.0…"
      ]
     },
     "metadata": {},
     "output_type": "display_data"
    },
    {
     "data": {
      "text/html": [
       "<span style=\"font-family: monospace; color: #000\">2020-12-16 13:00:50 INFO  main  [SamplingIntegrator] Rendering finished. (took 688ms)</span>"
      ]
     },
     "metadata": {},
     "output_type": "display_data"
    },
    {
     "data": {
      "text/html": [
       "<span style=\"font-family: monospace; color: #000\">2020-12-16 13:00:50 INFO  main  [ShapeKDTree] Building a SAH kd-tree (3 primitives) ..</span>"
      ]
     },
     "metadata": {},
     "output_type": "display_data"
    },
    {
     "data": {
      "text/html": [
       "<span style=\"font-family: monospace; color: #000\">2020-12-16 13:00:50 INFO  main  [ShapeKDTree] Finished. (20 B of storage, took 1ms)</span>"
      ]
     },
     "metadata": {},
     "output_type": "display_data"
    },
    {
     "data": {
      "text/html": [
       "<span style=\"font-family: monospace; color: #000\">2020-12-16 13:00:50 INFO  main  [SamplingIntegrator] Starting render job (400x400, 8 samples, 8 threads)</span>"
      ]
     },
     "metadata": {},
     "output_type": "display_data"
    },
    {
     "data": {
      "application/vnd.jupyter.widget-view+json": {
       "model_id": "351b9775843341f9bffdb27a8a3eb199",
       "version_major": 2,
       "version_minor": 0
      },
      "text/plain": [
       "VBox(children=(HTML(value=''), FloatProgress(value=0.0, bar_style='info', layout=Layout(width='100%'), max=1.0…"
      ]
     },
     "metadata": {},
     "output_type": "display_data"
    },
    {
     "data": {
      "text/html": [
       "<span style=\"font-family: monospace; color: #000\">2020-12-16 13:00:51 INFO  main  [SamplingIntegrator] Rendering finished. (took 671ms)</span>"
      ]
     },
     "metadata": {},
     "output_type": "display_data"
    },
    {
     "data": {
      "text/html": [
       "<span style=\"font-family: monospace; color: #000\">2020-12-16 13:00:51 INFO  main  [ShapeKDTree] Building a SAH kd-tree (3 primitives) ..</span>"
      ]
     },
     "metadata": {},
     "output_type": "display_data"
    },
    {
     "data": {
      "text/html": [
       "<span style=\"font-family: monospace; color: #000\">2020-12-16 13:00:51 INFO  main  [ShapeKDTree] Finished. (20 B of storage, took 0ms)</span>"
      ]
     },
     "metadata": {},
     "output_type": "display_data"
    },
    {
     "data": {
      "text/html": [
       "<span style=\"font-family: monospace; color: #000\">2020-12-16 13:00:52 INFO  main  [SamplingIntegrator] Starting render job (400x400, 8 samples, 8 threads)</span>"
      ]
     },
     "metadata": {},
     "output_type": "display_data"
    },
    {
     "data": {
      "application/vnd.jupyter.widget-view+json": {
       "model_id": "de14f4bd9a2e4da3aceb39adbb26ae11",
       "version_major": 2,
       "version_minor": 0
      },
      "text/plain": [
       "VBox(children=(HTML(value=''), FloatProgress(value=0.0, bar_style='info', layout=Layout(width='100%'), max=1.0…"
      ]
     },
     "metadata": {},
     "output_type": "display_data"
    },
    {
     "data": {
      "text/html": [
       "<span style=\"font-family: monospace; color: #000\">2020-12-16 13:00:52 INFO  main  [SamplingIntegrator] Rendering finished. (took 729ms)</span>"
      ]
     },
     "metadata": {},
     "output_type": "display_data"
    },
    {
     "data": {
      "text/html": [
       "<span style=\"font-family: monospace; color: #000\">2020-12-16 13:00:53 INFO  main  [ShapeKDTree] Building a SAH kd-tree (3 primitives) ..</span>"
      ]
     },
     "metadata": {},
     "output_type": "display_data"
    },
    {
     "data": {
      "text/html": [
       "<span style=\"font-family: monospace; color: #000\">2020-12-16 13:00:53 INFO  main  [ShapeKDTree] Finished. (20 B of storage, took 0ms)</span>"
      ]
     },
     "metadata": {},
     "output_type": "display_data"
    },
    {
     "data": {
      "text/html": [
       "<span style=\"font-family: monospace; color: #000\">2020-12-16 13:00:53 INFO  main  [SamplingIntegrator] Starting render job (400x400, 8 samples, 8 threads)</span>"
      ]
     },
     "metadata": {},
     "output_type": "display_data"
    },
    {
     "data": {
      "application/vnd.jupyter.widget-view+json": {
       "model_id": "dfe3a296c15048e0be7850a8fb0f8a5d",
       "version_major": 2,
       "version_minor": 0
      },
      "text/plain": [
       "VBox(children=(HTML(value=''), FloatProgress(value=0.0, bar_style='info', layout=Layout(width='100%'), max=1.0…"
      ]
     },
     "metadata": {},
     "output_type": "display_data"
    },
    {
     "data": {
      "text/html": [
       "<span style=\"font-family: monospace; color: #000\">2020-12-16 13:00:54 INFO  main  [SamplingIntegrator] Rendering finished. (took 667ms)</span>"
      ]
     },
     "metadata": {},
     "output_type": "display_data"
    },
    {
     "data": {
      "text/html": [
       "<span style=\"font-family: monospace; color: #000\">2020-12-16 13:00:54 INFO  main  [ShapeKDTree] Building a SAH kd-tree (3 primitives) ..</span>"
      ]
     },
     "metadata": {},
     "output_type": "display_data"
    },
    {
     "data": {
      "text/html": [
       "<span style=\"font-family: monospace; color: #000\">2020-12-16 13:00:54 INFO  main  [ShapeKDTree] Finished. (20 B of storage, took 1ms)</span>"
      ]
     },
     "metadata": {},
     "output_type": "display_data"
    },
    {
     "data": {
      "text/html": [
       "<span style=\"font-family: monospace; color: #000\">2020-12-16 13:00:54 INFO  main  [SamplingIntegrator] Starting render job (400x400, 8 samples, 8 threads)</span>"
      ]
     },
     "metadata": {},
     "output_type": "display_data"
    },
    {
     "data": {
      "application/vnd.jupyter.widget-view+json": {
       "model_id": "0a69fc8f126b42adbb721beb4a1e20db",
       "version_major": 2,
       "version_minor": 0
      },
      "text/plain": [
       "VBox(children=(HTML(value=''), FloatProgress(value=0.0, bar_style='info', layout=Layout(width='100%'), max=1.0…"
      ]
     },
     "metadata": {},
     "output_type": "display_data"
    },
    {
     "data": {
      "text/html": [
       "<span style=\"font-family: monospace; color: #000\">2020-12-16 13:00:55 INFO  main  [SamplingIntegrator] Rendering finished. (took 678ms)</span>"
      ]
     },
     "metadata": {},
     "output_type": "display_data"
    },
    {
     "data": {
      "text/html": [
       "<span style=\"font-family: monospace; color: #000\">2020-12-16 13:00:55 INFO  main  [ShapeKDTree] Building a SAH kd-tree (3 primitives) ..</span>"
      ]
     },
     "metadata": {},
     "output_type": "display_data"
    },
    {
     "data": {
      "text/html": [
       "<span style=\"font-family: monospace; color: #000\">2020-12-16 13:00:55 INFO  main  [ShapeKDTree] Finished. (20 B of storage, took 1ms)</span>"
      ]
     },
     "metadata": {},
     "output_type": "display_data"
    },
    {
     "data": {
      "text/html": [
       "<span style=\"font-family: monospace; color: #000\">2020-12-16 13:00:56 INFO  main  [SamplingIntegrator] Starting render job (400x400, 8 samples, 8 threads)</span>"
      ]
     },
     "metadata": {},
     "output_type": "display_data"
    },
    {
     "data": {
      "application/vnd.jupyter.widget-view+json": {
       "model_id": "14291ed805424dbaab618297e65e3a43",
       "version_major": 2,
       "version_minor": 0
      },
      "text/plain": [
       "VBox(children=(HTML(value=''), FloatProgress(value=0.0, bar_style='info', layout=Layout(width='100%'), max=1.0…"
      ]
     },
     "metadata": {},
     "output_type": "display_data"
    },
    {
     "data": {
      "text/html": [
       "<span style=\"font-family: monospace; color: #000\">2020-12-16 13:00:56 INFO  main  [SamplingIntegrator] Rendering finished. (took 670ms)</span>"
      ]
     },
     "metadata": {},
     "output_type": "display_data"
    },
    {
     "data": {
      "text/html": [
       "<span style=\"font-family: monospace; color: #000\">2020-12-16 13:00:57 INFO  main  [ShapeKDTree] Building a SAH kd-tree (3 primitives) ..</span>"
      ]
     },
     "metadata": {},
     "output_type": "display_data"
    },
    {
     "data": {
      "text/html": [
       "<span style=\"font-family: monospace; color: #000\">2020-12-16 13:00:57 INFO  main  [ShapeKDTree] Finished. (20 B of storage, took 1ms)</span>"
      ]
     },
     "metadata": {},
     "output_type": "display_data"
    },
    {
     "data": {
      "text/html": [
       "<span style=\"font-family: monospace; color: #000\">2020-12-16 13:00:57 INFO  main  [SamplingIntegrator] Starting render job (400x400, 8 samples, 8 threads)</span>"
      ]
     },
     "metadata": {},
     "output_type": "display_data"
    },
    {
     "data": {
      "application/vnd.jupyter.widget-view+json": {
       "model_id": "3fa613ac77154614a9672d3fb3f6858b",
       "version_major": 2,
       "version_minor": 0
      },
      "text/plain": [
       "VBox(children=(HTML(value=''), FloatProgress(value=0.0, bar_style='info', layout=Layout(width='100%'), max=1.0…"
      ]
     },
     "metadata": {},
     "output_type": "display_data"
    },
    {
     "data": {
      "text/html": [
       "<span style=\"font-family: monospace; color: #000\">2020-12-16 13:00:58 INFO  main  [SamplingIntegrator] Rendering finished. (took 659ms)</span>"
      ]
     },
     "metadata": {},
     "output_type": "display_data"
    },
    {
     "data": {
      "text/html": [
       "<span style=\"font-family: monospace; color: #000\">2020-12-16 13:00:58 INFO  main  [ShapeKDTree] Building a SAH kd-tree (3 primitives) ..</span>"
      ]
     },
     "metadata": {},
     "output_type": "display_data"
    },
    {
     "data": {
      "text/html": [
       "<span style=\"font-family: monospace; color: #000\">2020-12-16 13:00:58 INFO  main  [ShapeKDTree] Finished. (20 B of storage, took 1ms)</span>"
      ]
     },
     "metadata": {},
     "output_type": "display_data"
    },
    {
     "data": {
      "text/html": [
       "<span style=\"font-family: monospace; color: #000\">2020-12-16 13:00:58 INFO  main  [SamplingIntegrator] Starting render job (400x400, 8 samples, 8 threads)</span>"
      ]
     },
     "metadata": {},
     "output_type": "display_data"
    },
    {
     "data": {
      "application/vnd.jupyter.widget-view+json": {
       "model_id": "39bcade2108447439cb8849db830f740",
       "version_major": 2,
       "version_minor": 0
      },
      "text/plain": [
       "VBox(children=(HTML(value=''), FloatProgress(value=0.0, bar_style='info', layout=Layout(width='100%'), max=1.0…"
      ]
     },
     "metadata": {},
     "output_type": "display_data"
    },
    {
     "data": {
      "text/html": [
       "<span style=\"font-family: monospace; color: #000\">2020-12-16 13:00:59 INFO  main  [SamplingIntegrator] Rendering finished. (took 671ms)</span>"
      ]
     },
     "metadata": {},
     "output_type": "display_data"
    }
   ],
   "source": [
    "# Angular velocity rad/s\n",
    "theta_0 = np.deg2rad(0)\n",
    "omega = 2*2*np.pi\n",
    "dt = 0.01\n",
    "n_revs = 1\n",
    "\n",
    "n_frames = int(np.ceil((n_revs*2*np.pi)/(omega*dt)))\n",
    "t_max = n_frames*dt\n",
    "\n",
    "# Storage\n",
    "lesum = np.zeros([n_frames+1, RXR['range_bins']])\n",
    "\n",
    "txa_new = txa_trafo\n",
    "rxa_new = rxa_trafo\n",
    "\n",
    "t = 0\n",
    "i = 0\n",
    "while(t<=t_max):\n",
    "#     txa_d = Transform4f.rotate(txa_y, np.rad2deg(omega*dt))\n",
    "#     txa_d = Transform4f.rotate(-txa_x, np.rad2deg(omega*dt))\n",
    "#     txa_d = Transform4f.rotate([0,0,1], np.rad2deg(omega*dt))\n",
    "    # Rotate about the y-axis of the txrx\n",
    "#     txa_d = Transform4f.rotate([0,1,0], np.rad2deg(-omega)*dt)\n",
    "\n",
    "#     txa_d = Transform4f.rotate([0,0,1], np.rad2deg(-omega)*dt)\n",
    "    txa_d = Transform4f.rotate(txa_y, np.rad2deg(-omega)*dt)\n",
    "    \n",
    "    txa_x = txa_d.transform_vector(txa_x)\n",
    "    txa_y = txa_d.transform_vector(txa_y)\n",
    "    txa_z = txa_d.transform_vector(txa_z)\n",
    "    txa_new = txa_d*txa_new\n",
    "    \n",
    "    rxa_x = txa_d.transform_vector(rxa_x)\n",
    "    rxa_y = txa_d.transform_vector(rxa_y)\n",
    "    rxa_z = txa_d.transform_vector(rxa_z)\n",
    "    rxa_new = txa_d*rxa_new\n",
    "    \n",
    "    # Gotta find smarter way to update scene\n",
    "    TXA = dict({\n",
    "        'type': 'rectangle',\n",
    "        'to_world': txa_new,\n",
    "        'emitter': {\n",
    "            'type': 'wignertransmitter',\n",
    "            'radiance': {\n",
    "                'type': 'spectrum',\n",
    "                'value': [(wlen_min, TX['tx_power']), (wlen_max, TX['tx_power'])],\n",
    "            },\n",
    "        },\n",
    "    })\n",
    "    \n",
    "#     TXA = dict({\n",
    "#         'type': 'spot',\n",
    "#         'cutoff_angle': 25,\n",
    "#         'beam_width': 20,\n",
    "#         'intensity': {\n",
    "#             'type': 'spectrum',\n",
    "#             'value': [(wlen_min, 1000), (wlen_max, 1000)],\n",
    "#         },\n",
    "#         'to_world': txa_new,\n",
    "#     })\n",
    "    \n",
    "    RXA = dict({\n",
    "        'type': 'perspective',\n",
    "        'to_world': rxa_new,\n",
    "        'near_clip': 0.100000,\n",
    "        'far_clip': 100.0,\n",
    "        'fov_axis': 'x',\n",
    "        'fov': 45.0,\n",
    "        'sampler': SAM,\n",
    "        'film': RXF,\n",
    "    })\n",
    "    \n",
    "    scene = load_dict({\n",
    "        'type': 'scene',\n",
    "        'integrator': INTEGRATOR,\n",
    "        'sensor': RXA,\n",
    "        'emitter': TXA,\n",
    "        's0': REFL,\n",
    "        's1': GND,\n",
    "    #     's2': CAR,\n",
    "    })\n",
    "    \n",
    "    scene.integrator().render(scene, scene.sensors()[0])\n",
    "    film = scene.sensors()[0].film()\n",
    "    bmp_np = np.array(film.bitmap(raw=True))\n",
    "    \n",
    "    for j in range(0, RXR['range_bins']):\n",
    "        idx_lo = 5 + j + 2*j\n",
    "        idx_hi = 5 + j+3 + 2*j\n",
    "        lesum[i, j] = (sum(sum(sum(bmp_np[:, :, idx_lo:idx_hi]))))\n",
    "#         print(bmp_np[:, :, idx_lo:idx_hi])\n",
    "        \n",
    "    i+=1\n",
    "    t+=dt\n"
   ]
  },
  {
   "cell_type": "code",
   "execution_count": 247,
   "metadata": {},
   "outputs": [
    {
     "data": {
      "image/png": "[encoded data removed]",
      "text/plain": [
       "<Figure size 1008x504 with 2 Axes>"
      ]
     },
     "metadata": {
      "needs_background": "light"
     },
     "output_type": "display_data"
    }
   ],
   "source": [
    "# Outputs\n",
    "lesum_log = 10*np.log10(np.abs(lesum) + np.finfo(float).eps)\n",
    "rs = np.arange(0, RXR['dr']*RXR['range_bins'], RXR['dr'])\n",
    "rs = rs/2\n",
    "\n",
    "thetas = np.arange(theta_0, theta_0 + (n_frames+1)*omega*dt, omega*dt)\n",
    "rr, tt = np.meshgrid(rs, thetas)\n",
    "\n",
    "# minc = lesum[(lesum > -140)].min()\n",
    "minc = lesum_log[(lesum_log > -200)].min()\n",
    "maxc = lesum_log.max()\n",
    "\n",
    "# fig, ax = plt.subplots(subplot_kw=dict(projection='polar'))\n",
    "# pol = ax.contourf(tt, rr, lesum, cmap=cm.coolwarm, vmin=minc, vmax=maxc)\n",
    "# fig.colorbar(pol)\n",
    "\n",
    "fig1 = plt.figure(figsize=(14, 7))\n",
    "# axes1 = fig1.add_subplot(projection='polar')\n",
    "axes1 = fig1.add_subplot()\n",
    "ret = axes1.pcolormesh(np.rad2deg(tt), rr, lesum_log, cmap=cm.coolwarm, vmin=minc, vmax=maxc, shading='auto')\n",
    "# ret = axes1.pcolormesh(tt, rr, lesum_log, cmap=cm.coolwarm, vmin=minc, vmax=maxc, shading='auto')\n",
    "# ret = axes1.pcolormesh(lesum_log, cmap=cm.coolwarm, vmin=minc, vmax=maxc, shading='auto')\n",
    "axes1.set_xlabel('Angles [deg]')\n",
    "axes1.set_ylabel('Range [m]')\n",
    "axes1.set_title('Return Power Swept over Angles')\n",
    "\n",
    "cbar = fig1.colorbar(ret)\n",
    "cbar.set_label('Power [dBW]')\n",
    "\n",
    "# fig = plt.figure()\n",
    "# ax = fig.gca(projection='3d')\n",
    "# surf = ax.plot_surface(rr, np.rad2deg(tt), lesum\n",
    "#                        , cmap=cm.coolwarm, vmin=minc, vmax=maxc)\n",
    "# fig.colorbar(surf)\n",
    "\n",
    "\n",
    "# xLabel = ax.set_xlabel('Range [m]')\n",
    "# yLabel = ax.set_ylabel('Angle [deg]')\n",
    "# xLabel = ax.set_xlabel('X [m]')\n",
    "# yLabel = ax.set_ylabel('Y [m]')\n",
    "# zLabel = ax.set_zlabel('Return Value [dBW]')\n"
   ]
  },
  {
   "cell_type": "code",
   "execution_count": 220,
   "metadata": {},
   "outputs": [],
   "source": [
    "# Angular velocity rad/s\n",
    "theta_0 = np.deg2rad(0)\n",
    "omega = 2*2*np.pi\n",
    "dt = 0.01\n",
    "n_revs = 1\n",
    "\n",
    "n_frames = int(np.ceil((n_revs*2*np.pi)/(omega*dt)))\n",
    "t_max = n_frames*dt\n",
    "\n",
    "# Storage\n",
    "lesum = np.zeros([n_frames+1, RXR['range_bins']])\n",
    "\n",
    "txa_new = txa_trafo\n",
    "rxa_new = rxa_trafo\n",
    "\n",
    "t = 0\n",
    "i = 0"
   ]
  },
  {
   "cell_type": "code",
   "execution_count": 221,
   "metadata": {},
   "outputs": [
    {
     "data": {
      "text/html": [
       "<span style=\"font-family: monospace; color: #000\">2020-12-16 12:50:03 INFO  main  [ShapeKDTree] Building a SAH kd-tree (3 primitives) ..</span>"
      ]
     },
     "metadata": {},
     "output_type": "display_data"
    },
    {
     "data": {
      "text/html": [
       "<span style=\"font-family: monospace; color: #000\">2020-12-16 12:50:03 INFO  main  [ShapeKDTree] Finished. (20 B of storage, took 1ms)</span>"
      ]
     },
     "metadata": {},
     "output_type": "display_data"
    },
    {
     "data": {
      "text/html": [
       "<span style=\"font-family: monospace; color: #000\">2020-12-16 12:50:03 INFO  main  [SamplingIntegrator] Starting render job (400x400, 8 samples, 8 threads)</span>"
      ]
     },
     "metadata": {},
     "output_type": "display_data"
    },
    {
     "data": {
      "application/vnd.jupyter.widget-view+json": {
       "model_id": "c069cb8879ac4cb18aecb54892deb29d",
       "version_major": 2,
       "version_minor": 0
      },
      "text/plain": [
       "VBox(children=(HTML(value=''), FloatProgress(value=0.0, bar_style='info', layout=Layout(width='100%'), max=1.0…"
      ]
     },
     "metadata": {},
     "output_type": "display_data"
    },
    {
     "data": {
      "text/html": [
       "<span style=\"font-family: monospace; color: #000\">2020-12-16 12:50:04 INFO  main  [SamplingIntegrator] Rendering finished. (took 664ms)</span>"
      ]
     },
     "metadata": {},
     "output_type": "display_data"
    },
    {
     "name": "stderr",
     "output_type": "stream",
     "text": [
      "Clipping input data to the valid range for imshow with RGB data ([0..1] for floats or [0..255] for integers).\n"
     ]
    },
    {
     "data": {
      "image/png": "[encoded data removed]",
      "text/plain": [
       "<Figure size 1008x504 with 1 Axes>"
      ]
     },
     "metadata": {
      "needs_background": "light"
     },
     "output_type": "display_data"
    }
   ],
   "source": [
    "#     txa_d = Transform4f.rotate(txa_y, np.rad2deg(omega*dt))\n",
    "#     txa_d = Transform4f.rotate(-txa_x, np.rad2deg(omega*dt))\n",
    "#     txa_d = Transform4f.rotate([0,0,1], np.rad2deg(omega*dt))\n",
    "# Rotate about the y-axis of the txrx\n",
    "# txa_d = Transform4f.rotate([0,1,0], np.rad2deg(-omega)*dt)\n",
    "txa_d = Transform4f.rotate([0,0,1], np.rad2deg(-omega)*dt)\n",
    "# ??? Rotate about world z axis?\n",
    "\n",
    "#     txa_x = txa_d.transform_vector(txa_x)\n",
    "#     txa_y = txa_d.transform_vector(txa_y)\n",
    "#     txa_z = txa_d.transform_vector(txa_z)\n",
    "txa_new = txa_d*txa_new\n",
    "\n",
    "#     rxa_x = txa_d.transform_vector(rxa_x)\n",
    "#     rxa_y = txa_d.transform_vector(rxa_y)\n",
    "#     rxa_z = txa_d.transform_vector(rxa_z)\n",
    "rxa_new = txa_d*rxa_new\n",
    "\n",
    "# Gotta find smarter way to update scene\n",
    "TXA = dict({\n",
    "    'type': 'rectangle',\n",
    "    'to_world': txa_new,\n",
    "    'emitter': {\n",
    "        'type': 'wignertransmitter',\n",
    "        'radiance': {\n",
    "            'type': 'spectrum',\n",
    "            'value': [(wlen_min, TX['tx_power']), (wlen_max, TX['tx_power'])],\n",
    "        },\n",
    "    },\n",
    "})\n",
    "\n",
    "#     TXA = dict({\n",
    "#         'type': 'spot',\n",
    "#         'cutoff_angle': 25,\n",
    "#         'beam_width': 20,\n",
    "#         'intensity': {\n",
    "#             'type': 'spectrum',\n",
    "#             'value': [(wlen_min, 1000), (wlen_max, 1000)],\n",
    "#         },\n",
    "#         'to_world': txa_new,\n",
    "#     })\n",
    "\n",
    "RXA = dict({\n",
    "    'type': 'perspective',\n",
    "    'to_world': rxa_new,\n",
    "    'near_clip': 0.100000,\n",
    "    'far_clip': 100.0,\n",
    "    'fov_axis': 'x',\n",
    "    'fov': 45.0,\n",
    "    'sampler': SAM,\n",
    "    'film': RXF,\n",
    "})\n",
    "\n",
    "scene = load_dict({\n",
    "    'type': 'scene',\n",
    "    'integrator': INTEGRATOR,\n",
    "    'sensor': RXA,\n",
    "    'emitter': TXA,\n",
    "    's0': REFL,\n",
    "    's1': GND,\n",
    "#     's2': CAR,\n",
    "})\n",
    "\n",
    "scene.integrator().render(scene, scene.sensors()[0])\n",
    "film = scene.sensors()[0].film()\n",
    "bmp_np = np.array(film.bitmap(raw=True))\n",
    "mask = bmp_np[:,:,0:3]>0\n",
    "# bmp_np[:,:,0:3] = bmp_np[:,:,0:3]*mask\n",
    "\n",
    "fig1 = plt.figure(figsize=(14, 7))\n",
    "axes1 = fig1.add_subplot()\n",
    "\n",
    "axes1.imshow(bmp_np[:,:,0:3]*mask, interpolation='nearest')\n",
    "\n",
    "for j in range(0, RXR['range_bins']):\n",
    "    idx_lo = 5 + j + 2*j\n",
    "    idx_hi = 5 + j+3 + 2*j\n",
    "    lesum[i, j] = (sum(sum(sum(bmp_np[:, :, idx_lo:idx_hi]))))\n",
    "#         print(bmp_np[:, :, idx_lo:idx_hi])\n",
    "\n",
    "i+=1\n",
    "t+=dt"
   ]
  },
  {
   "cell_type": "code",
   "execution_count": null,
   "metadata": {},
   "outputs": [],
   "source": []
  }
 ],
 "metadata": {
  "kernelspec": {
   "display_name": "Python 3",
   "language": "python",
   "name": "python3"
  },
  "language_info": {
   "codemirror_mode": {
    "name": "ipython",
    "version": 3
   },
   "file_extension": ".py",
   "mimetype": "text/x-python",
   "name": "python",
   "nbconvert_exporter": "python",
   "pygments_lexer": "ipython3",
   "version": "3.8.6"
  }
 },
 "nbformat": 4,
 "nbformat_minor": 4
}
